{
  "nbformat": 4,
  "nbformat_minor": 0,
  "metadata": {
    "colab": {
      "name": "HeartBeat ECG Classification.ipynb",
      "provenance": [],
      "collapsed_sections": []
    },
    "kernelspec": {
      "name": "python3",
      "display_name": "Python 3"
    },
    "language_info": {
      "name": "python"
    },
    "accelerator": "GPU"
  },
  "cells": [
    {
      "cell_type": "code",
      "source": [
        "from google.colab import drive\n",
        "drive.mount(\"/content/drive\")"
      ],
      "metadata": {
        "id": "Ut1hmM1XFRkS",
        "colab": {
          "base_uri": "https://localhost:8080/"
        },
        "outputId": "5a5ce11f-d094-4895-9dee-6f67585d9b31"
      },
      "execution_count": 1,
      "outputs": [
        {
          "output_type": "stream",
          "name": "stdout",
          "text": [
            "Mounted at /content/drive\n"
          ]
        }
      ]
    },
    {
      "cell_type": "markdown",
      "source": [
        "#EDA - Exploratory Data Analysis"
      ],
      "metadata": {
        "id": "KikXTkDw148_"
      }
    },
    {
      "cell_type": "code",
      "source": [
        "!cp \"/content/drive/MyDrive/heartbeat.zip\" \"/content/\""
      ],
      "metadata": {
        "id": "SAs6ASBA13w1"
      },
      "execution_count": 2,
      "outputs": []
    },
    {
      "cell_type": "code",
      "source": [
        "!unzip *.zip && rm -rf *.zip"
      ],
      "metadata": {
        "colab": {
          "base_uri": "https://localhost:8080/"
        },
        "id": "33Zrao7x2Tnl",
        "outputId": "def6d5c1-d65e-4fea-a021-4da92a1e3007"
      },
      "execution_count": 3,
      "outputs": [
        {
          "output_type": "stream",
          "name": "stdout",
          "text": [
            "Archive:  heartbeat.zip\n",
            "  inflating: mitbih_test.csv         \n",
            "  inflating: mitbih_train.csv        \n",
            "  inflating: ptbdb_abnormal.csv      \n",
            "  inflating: ptbdb_normal.csv        \n"
          ]
        }
      ]
    },
    {
      "cell_type": "code",
      "source": [
        "import pandas as pd\n",
        "import numpy as np\n",
        "import seaborn as sns\n",
        "%matplotlib inline"
      ],
      "metadata": {
        "id": "JIWwxtAo2WZW"
      },
      "execution_count": 2,
      "outputs": []
    },
    {
      "cell_type": "markdown",
      "source": [
        "**Understanding Data**"
      ],
      "metadata": {
        "id": "33EnokjZ25HY"
      }
    },
    {
      "cell_type": "code",
      "source": [
        "# ['N': 0, 'S': 1, 'V': 2, 'F': 3, 'Q': 4]"
      ],
      "metadata": {
        "id": "aGDmpgL93_9I"
      },
      "execution_count": 3,
      "outputs": []
    },
    {
      "cell_type": "code",
      "source": [
        "# N ---> Normal              \n",
        "# Q ---> Unknown Beats        \n",
        "# V ---> Ventricular          \n",
        "# S ---> Supraventricular     \n",
        "# F ---> Fusion Beats          "
      ],
      "metadata": {
        "id": "h5Zu683k4hVQ"
      },
      "execution_count": 4,
      "outputs": []
    },
    {
      "cell_type": "code",
      "source": [
        "data = pd.read_csv(\"mitbih_train.csv\", header=None, index_col=False)"
      ],
      "metadata": {
        "id": "4mF76MaB2vhB"
      },
      "execution_count": 5,
      "outputs": []
    },
    {
      "cell_type": "code",
      "source": [
        "data.head()"
      ],
      "metadata": {
        "colab": {
          "base_uri": "https://localhost:8080/",
          "height": 299
        },
        "id": "0mgUdS3K20u0",
        "outputId": "49b2f6f1-2a96-4dd4-9173-699531c76b55"
      },
      "execution_count": 6,
      "outputs": [
        {
          "output_type": "execute_result",
          "data": {
            "text/html": [
              "\n",
              "  <div id=\"df-ba863716-9e23-416d-b0e4-5a3dbb916255\">\n",
              "    <div class=\"colab-df-container\">\n",
              "      <div>\n",
              "<style scoped>\n",
              "    .dataframe tbody tr th:only-of-type {\n",
              "        vertical-align: middle;\n",
              "    }\n",
              "\n",
              "    .dataframe tbody tr th {\n",
              "        vertical-align: top;\n",
              "    }\n",
              "\n",
              "    .dataframe thead th {\n",
              "        text-align: right;\n",
              "    }\n",
              "</style>\n",
              "<table border=\"1\" class=\"dataframe\">\n",
              "  <thead>\n",
              "    <tr style=\"text-align: right;\">\n",
              "      <th></th>\n",
              "      <th>0</th>\n",
              "      <th>1</th>\n",
              "      <th>2</th>\n",
              "      <th>3</th>\n",
              "      <th>4</th>\n",
              "      <th>5</th>\n",
              "      <th>6</th>\n",
              "      <th>7</th>\n",
              "      <th>8</th>\n",
              "      <th>9</th>\n",
              "      <th>10</th>\n",
              "      <th>11</th>\n",
              "      <th>12</th>\n",
              "      <th>13</th>\n",
              "      <th>14</th>\n",
              "      <th>15</th>\n",
              "      <th>16</th>\n",
              "      <th>17</th>\n",
              "      <th>18</th>\n",
              "      <th>19</th>\n",
              "      <th>20</th>\n",
              "      <th>21</th>\n",
              "      <th>22</th>\n",
              "      <th>23</th>\n",
              "      <th>24</th>\n",
              "      <th>25</th>\n",
              "      <th>26</th>\n",
              "      <th>27</th>\n",
              "      <th>28</th>\n",
              "      <th>29</th>\n",
              "      <th>30</th>\n",
              "      <th>31</th>\n",
              "      <th>32</th>\n",
              "      <th>33</th>\n",
              "      <th>34</th>\n",
              "      <th>35</th>\n",
              "      <th>36</th>\n",
              "      <th>37</th>\n",
              "      <th>38</th>\n",
              "      <th>39</th>\n",
              "      <th>...</th>\n",
              "      <th>148</th>\n",
              "      <th>149</th>\n",
              "      <th>150</th>\n",
              "      <th>151</th>\n",
              "      <th>152</th>\n",
              "      <th>153</th>\n",
              "      <th>154</th>\n",
              "      <th>155</th>\n",
              "      <th>156</th>\n",
              "      <th>157</th>\n",
              "      <th>158</th>\n",
              "      <th>159</th>\n",
              "      <th>160</th>\n",
              "      <th>161</th>\n",
              "      <th>162</th>\n",
              "      <th>163</th>\n",
              "      <th>164</th>\n",
              "      <th>165</th>\n",
              "      <th>166</th>\n",
              "      <th>167</th>\n",
              "      <th>168</th>\n",
              "      <th>169</th>\n",
              "      <th>170</th>\n",
              "      <th>171</th>\n",
              "      <th>172</th>\n",
              "      <th>173</th>\n",
              "      <th>174</th>\n",
              "      <th>175</th>\n",
              "      <th>176</th>\n",
              "      <th>177</th>\n",
              "      <th>178</th>\n",
              "      <th>179</th>\n",
              "      <th>180</th>\n",
              "      <th>181</th>\n",
              "      <th>182</th>\n",
              "      <th>183</th>\n",
              "      <th>184</th>\n",
              "      <th>185</th>\n",
              "      <th>186</th>\n",
              "      <th>187</th>\n",
              "    </tr>\n",
              "  </thead>\n",
              "  <tbody>\n",
              "    <tr>\n",
              "      <th>0</th>\n",
              "      <td>0.977941</td>\n",
              "      <td>0.926471</td>\n",
              "      <td>0.681373</td>\n",
              "      <td>0.245098</td>\n",
              "      <td>0.154412</td>\n",
              "      <td>0.191176</td>\n",
              "      <td>0.151961</td>\n",
              "      <td>0.085784</td>\n",
              "      <td>0.058824</td>\n",
              "      <td>0.049020</td>\n",
              "      <td>0.044118</td>\n",
              "      <td>0.061275</td>\n",
              "      <td>0.066176</td>\n",
              "      <td>0.061275</td>\n",
              "      <td>0.049020</td>\n",
              "      <td>0.073529</td>\n",
              "      <td>0.061275</td>\n",
              "      <td>0.061275</td>\n",
              "      <td>0.066176</td>\n",
              "      <td>0.068627</td>\n",
              "      <td>0.095588</td>\n",
              "      <td>0.075980</td>\n",
              "      <td>0.093137</td>\n",
              "      <td>0.105392</td>\n",
              "      <td>0.115196</td>\n",
              "      <td>0.102941</td>\n",
              "      <td>0.117647</td>\n",
              "      <td>0.125000</td>\n",
              "      <td>0.142157</td>\n",
              "      <td>0.127451</td>\n",
              "      <td>0.151961</td>\n",
              "      <td>0.144608</td>\n",
              "      <td>0.164216</td>\n",
              "      <td>0.144608</td>\n",
              "      <td>0.159314</td>\n",
              "      <td>0.151961</td>\n",
              "      <td>0.154412</td>\n",
              "      <td>0.142157</td>\n",
              "      <td>0.151961</td>\n",
              "      <td>0.151961</td>\n",
              "      <td>...</td>\n",
              "      <td>0.0</td>\n",
              "      <td>0.0</td>\n",
              "      <td>0.0</td>\n",
              "      <td>0.0</td>\n",
              "      <td>0.0</td>\n",
              "      <td>0.0</td>\n",
              "      <td>0.0</td>\n",
              "      <td>0.0</td>\n",
              "      <td>0.0</td>\n",
              "      <td>0.0</td>\n",
              "      <td>0.0</td>\n",
              "      <td>0.0</td>\n",
              "      <td>0.0</td>\n",
              "      <td>0.0</td>\n",
              "      <td>0.0</td>\n",
              "      <td>0.0</td>\n",
              "      <td>0.0</td>\n",
              "      <td>0.0</td>\n",
              "      <td>0.0</td>\n",
              "      <td>0.0</td>\n",
              "      <td>0.0</td>\n",
              "      <td>0.0</td>\n",
              "      <td>0.0</td>\n",
              "      <td>0.0</td>\n",
              "      <td>0.0</td>\n",
              "      <td>0.0</td>\n",
              "      <td>0.0</td>\n",
              "      <td>0.0</td>\n",
              "      <td>0.0</td>\n",
              "      <td>0.0</td>\n",
              "      <td>0.0</td>\n",
              "      <td>0.0</td>\n",
              "      <td>0.0</td>\n",
              "      <td>0.0</td>\n",
              "      <td>0.0</td>\n",
              "      <td>0.0</td>\n",
              "      <td>0.0</td>\n",
              "      <td>0.0</td>\n",
              "      <td>0.0</td>\n",
              "      <td>0.0</td>\n",
              "    </tr>\n",
              "    <tr>\n",
              "      <th>1</th>\n",
              "      <td>0.960114</td>\n",
              "      <td>0.863248</td>\n",
              "      <td>0.461538</td>\n",
              "      <td>0.196581</td>\n",
              "      <td>0.094017</td>\n",
              "      <td>0.125356</td>\n",
              "      <td>0.099715</td>\n",
              "      <td>0.088319</td>\n",
              "      <td>0.074074</td>\n",
              "      <td>0.082621</td>\n",
              "      <td>0.074074</td>\n",
              "      <td>0.062678</td>\n",
              "      <td>0.065527</td>\n",
              "      <td>0.065527</td>\n",
              "      <td>0.062678</td>\n",
              "      <td>0.076923</td>\n",
              "      <td>0.071225</td>\n",
              "      <td>0.082621</td>\n",
              "      <td>0.091168</td>\n",
              "      <td>0.096866</td>\n",
              "      <td>0.082621</td>\n",
              "      <td>0.082621</td>\n",
              "      <td>0.091168</td>\n",
              "      <td>0.105413</td>\n",
              "      <td>0.122507</td>\n",
              "      <td>0.148148</td>\n",
              "      <td>0.182336</td>\n",
              "      <td>0.193732</td>\n",
              "      <td>0.213675</td>\n",
              "      <td>0.207977</td>\n",
              "      <td>0.222222</td>\n",
              "      <td>0.253561</td>\n",
              "      <td>0.270655</td>\n",
              "      <td>0.287749</td>\n",
              "      <td>0.284900</td>\n",
              "      <td>0.293447</td>\n",
              "      <td>0.256410</td>\n",
              "      <td>0.247863</td>\n",
              "      <td>0.188034</td>\n",
              "      <td>0.145299</td>\n",
              "      <td>...</td>\n",
              "      <td>0.0</td>\n",
              "      <td>0.0</td>\n",
              "      <td>0.0</td>\n",
              "      <td>0.0</td>\n",
              "      <td>0.0</td>\n",
              "      <td>0.0</td>\n",
              "      <td>0.0</td>\n",
              "      <td>0.0</td>\n",
              "      <td>0.0</td>\n",
              "      <td>0.0</td>\n",
              "      <td>0.0</td>\n",
              "      <td>0.0</td>\n",
              "      <td>0.0</td>\n",
              "      <td>0.0</td>\n",
              "      <td>0.0</td>\n",
              "      <td>0.0</td>\n",
              "      <td>0.0</td>\n",
              "      <td>0.0</td>\n",
              "      <td>0.0</td>\n",
              "      <td>0.0</td>\n",
              "      <td>0.0</td>\n",
              "      <td>0.0</td>\n",
              "      <td>0.0</td>\n",
              "      <td>0.0</td>\n",
              "      <td>0.0</td>\n",
              "      <td>0.0</td>\n",
              "      <td>0.0</td>\n",
              "      <td>0.0</td>\n",
              "      <td>0.0</td>\n",
              "      <td>0.0</td>\n",
              "      <td>0.0</td>\n",
              "      <td>0.0</td>\n",
              "      <td>0.0</td>\n",
              "      <td>0.0</td>\n",
              "      <td>0.0</td>\n",
              "      <td>0.0</td>\n",
              "      <td>0.0</td>\n",
              "      <td>0.0</td>\n",
              "      <td>0.0</td>\n",
              "      <td>0.0</td>\n",
              "    </tr>\n",
              "    <tr>\n",
              "      <th>2</th>\n",
              "      <td>1.000000</td>\n",
              "      <td>0.659459</td>\n",
              "      <td>0.186486</td>\n",
              "      <td>0.070270</td>\n",
              "      <td>0.070270</td>\n",
              "      <td>0.059459</td>\n",
              "      <td>0.056757</td>\n",
              "      <td>0.043243</td>\n",
              "      <td>0.054054</td>\n",
              "      <td>0.045946</td>\n",
              "      <td>0.056757</td>\n",
              "      <td>0.043243</td>\n",
              "      <td>0.067568</td>\n",
              "      <td>0.062162</td>\n",
              "      <td>0.078378</td>\n",
              "      <td>0.072973</td>\n",
              "      <td>0.086486</td>\n",
              "      <td>0.081081</td>\n",
              "      <td>0.108108</td>\n",
              "      <td>0.110811</td>\n",
              "      <td>0.135135</td>\n",
              "      <td>0.135135</td>\n",
              "      <td>0.170270</td>\n",
              "      <td>0.183784</td>\n",
              "      <td>0.216216</td>\n",
              "      <td>0.237838</td>\n",
              "      <td>0.270270</td>\n",
              "      <td>0.286486</td>\n",
              "      <td>0.316216</td>\n",
              "      <td>0.318919</td>\n",
              "      <td>0.332432</td>\n",
              "      <td>0.297297</td>\n",
              "      <td>0.267568</td>\n",
              "      <td>0.216216</td>\n",
              "      <td>0.189189</td>\n",
              "      <td>0.132432</td>\n",
              "      <td>0.118919</td>\n",
              "      <td>0.064865</td>\n",
              "      <td>0.064865</td>\n",
              "      <td>0.043243</td>\n",
              "      <td>...</td>\n",
              "      <td>0.0</td>\n",
              "      <td>0.0</td>\n",
              "      <td>0.0</td>\n",
              "      <td>0.0</td>\n",
              "      <td>0.0</td>\n",
              "      <td>0.0</td>\n",
              "      <td>0.0</td>\n",
              "      <td>0.0</td>\n",
              "      <td>0.0</td>\n",
              "      <td>0.0</td>\n",
              "      <td>0.0</td>\n",
              "      <td>0.0</td>\n",
              "      <td>0.0</td>\n",
              "      <td>0.0</td>\n",
              "      <td>0.0</td>\n",
              "      <td>0.0</td>\n",
              "      <td>0.0</td>\n",
              "      <td>0.0</td>\n",
              "      <td>0.0</td>\n",
              "      <td>0.0</td>\n",
              "      <td>0.0</td>\n",
              "      <td>0.0</td>\n",
              "      <td>0.0</td>\n",
              "      <td>0.0</td>\n",
              "      <td>0.0</td>\n",
              "      <td>0.0</td>\n",
              "      <td>0.0</td>\n",
              "      <td>0.0</td>\n",
              "      <td>0.0</td>\n",
              "      <td>0.0</td>\n",
              "      <td>0.0</td>\n",
              "      <td>0.0</td>\n",
              "      <td>0.0</td>\n",
              "      <td>0.0</td>\n",
              "      <td>0.0</td>\n",
              "      <td>0.0</td>\n",
              "      <td>0.0</td>\n",
              "      <td>0.0</td>\n",
              "      <td>0.0</td>\n",
              "      <td>0.0</td>\n",
              "    </tr>\n",
              "    <tr>\n",
              "      <th>3</th>\n",
              "      <td>0.925414</td>\n",
              "      <td>0.665746</td>\n",
              "      <td>0.541436</td>\n",
              "      <td>0.276243</td>\n",
              "      <td>0.196133</td>\n",
              "      <td>0.077348</td>\n",
              "      <td>0.071823</td>\n",
              "      <td>0.060773</td>\n",
              "      <td>0.066298</td>\n",
              "      <td>0.058011</td>\n",
              "      <td>0.063536</td>\n",
              "      <td>0.082873</td>\n",
              "      <td>0.085635</td>\n",
              "      <td>0.093923</td>\n",
              "      <td>0.113260</td>\n",
              "      <td>0.124309</td>\n",
              "      <td>0.140884</td>\n",
              "      <td>0.132597</td>\n",
              "      <td>0.140884</td>\n",
              "      <td>0.091160</td>\n",
              "      <td>0.085635</td>\n",
              "      <td>0.074586</td>\n",
              "      <td>0.071823</td>\n",
              "      <td>0.080110</td>\n",
              "      <td>0.096685</td>\n",
              "      <td>0.118785</td>\n",
              "      <td>0.138122</td>\n",
              "      <td>0.140884</td>\n",
              "      <td>0.138122</td>\n",
              "      <td>0.146409</td>\n",
              "      <td>0.110497</td>\n",
              "      <td>0.102210</td>\n",
              "      <td>0.060773</td>\n",
              "      <td>0.027624</td>\n",
              "      <td>0.038674</td>\n",
              "      <td>0.013812</td>\n",
              "      <td>0.011050</td>\n",
              "      <td>0.013812</td>\n",
              "      <td>0.033149</td>\n",
              "      <td>0.005525</td>\n",
              "      <td>...</td>\n",
              "      <td>0.0</td>\n",
              "      <td>0.0</td>\n",
              "      <td>0.0</td>\n",
              "      <td>0.0</td>\n",
              "      <td>0.0</td>\n",
              "      <td>0.0</td>\n",
              "      <td>0.0</td>\n",
              "      <td>0.0</td>\n",
              "      <td>0.0</td>\n",
              "      <td>0.0</td>\n",
              "      <td>0.0</td>\n",
              "      <td>0.0</td>\n",
              "      <td>0.0</td>\n",
              "      <td>0.0</td>\n",
              "      <td>0.0</td>\n",
              "      <td>0.0</td>\n",
              "      <td>0.0</td>\n",
              "      <td>0.0</td>\n",
              "      <td>0.0</td>\n",
              "      <td>0.0</td>\n",
              "      <td>0.0</td>\n",
              "      <td>0.0</td>\n",
              "      <td>0.0</td>\n",
              "      <td>0.0</td>\n",
              "      <td>0.0</td>\n",
              "      <td>0.0</td>\n",
              "      <td>0.0</td>\n",
              "      <td>0.0</td>\n",
              "      <td>0.0</td>\n",
              "      <td>0.0</td>\n",
              "      <td>0.0</td>\n",
              "      <td>0.0</td>\n",
              "      <td>0.0</td>\n",
              "      <td>0.0</td>\n",
              "      <td>0.0</td>\n",
              "      <td>0.0</td>\n",
              "      <td>0.0</td>\n",
              "      <td>0.0</td>\n",
              "      <td>0.0</td>\n",
              "      <td>0.0</td>\n",
              "    </tr>\n",
              "    <tr>\n",
              "      <th>4</th>\n",
              "      <td>0.967136</td>\n",
              "      <td>1.000000</td>\n",
              "      <td>0.830986</td>\n",
              "      <td>0.586854</td>\n",
              "      <td>0.356808</td>\n",
              "      <td>0.248826</td>\n",
              "      <td>0.145540</td>\n",
              "      <td>0.089202</td>\n",
              "      <td>0.117371</td>\n",
              "      <td>0.150235</td>\n",
              "      <td>0.131455</td>\n",
              "      <td>0.122066</td>\n",
              "      <td>0.140845</td>\n",
              "      <td>0.159624</td>\n",
              "      <td>0.150235</td>\n",
              "      <td>0.145540</td>\n",
              "      <td>0.136150</td>\n",
              "      <td>0.169014</td>\n",
              "      <td>0.178404</td>\n",
              "      <td>0.173709</td>\n",
              "      <td>0.183099</td>\n",
              "      <td>0.201878</td>\n",
              "      <td>0.187793</td>\n",
              "      <td>0.164319</td>\n",
              "      <td>0.187793</td>\n",
              "      <td>0.215962</td>\n",
              "      <td>0.215962</td>\n",
              "      <td>0.201878</td>\n",
              "      <td>0.211268</td>\n",
              "      <td>0.230047</td>\n",
              "      <td>0.215962</td>\n",
              "      <td>0.230047</td>\n",
              "      <td>0.239437</td>\n",
              "      <td>0.267606</td>\n",
              "      <td>0.253521</td>\n",
              "      <td>0.230047</td>\n",
              "      <td>0.220657</td>\n",
              "      <td>0.225352</td>\n",
              "      <td>0.211268</td>\n",
              "      <td>0.173709</td>\n",
              "      <td>...</td>\n",
              "      <td>0.0</td>\n",
              "      <td>0.0</td>\n",
              "      <td>0.0</td>\n",
              "      <td>0.0</td>\n",
              "      <td>0.0</td>\n",
              "      <td>0.0</td>\n",
              "      <td>0.0</td>\n",
              "      <td>0.0</td>\n",
              "      <td>0.0</td>\n",
              "      <td>0.0</td>\n",
              "      <td>0.0</td>\n",
              "      <td>0.0</td>\n",
              "      <td>0.0</td>\n",
              "      <td>0.0</td>\n",
              "      <td>0.0</td>\n",
              "      <td>0.0</td>\n",
              "      <td>0.0</td>\n",
              "      <td>0.0</td>\n",
              "      <td>0.0</td>\n",
              "      <td>0.0</td>\n",
              "      <td>0.0</td>\n",
              "      <td>0.0</td>\n",
              "      <td>0.0</td>\n",
              "      <td>0.0</td>\n",
              "      <td>0.0</td>\n",
              "      <td>0.0</td>\n",
              "      <td>0.0</td>\n",
              "      <td>0.0</td>\n",
              "      <td>0.0</td>\n",
              "      <td>0.0</td>\n",
              "      <td>0.0</td>\n",
              "      <td>0.0</td>\n",
              "      <td>0.0</td>\n",
              "      <td>0.0</td>\n",
              "      <td>0.0</td>\n",
              "      <td>0.0</td>\n",
              "      <td>0.0</td>\n",
              "      <td>0.0</td>\n",
              "      <td>0.0</td>\n",
              "      <td>0.0</td>\n",
              "    </tr>\n",
              "  </tbody>\n",
              "</table>\n",
              "<p>5 rows × 188 columns</p>\n",
              "</div>\n",
              "      <button class=\"colab-df-convert\" onclick=\"convertToInteractive('df-ba863716-9e23-416d-b0e4-5a3dbb916255')\"\n",
              "              title=\"Convert this dataframe to an interactive table.\"\n",
              "              style=\"display:none;\">\n",
              "        \n",
              "  <svg xmlns=\"http://www.w3.org/2000/svg\" height=\"24px\"viewBox=\"0 0 24 24\"\n",
              "       width=\"24px\">\n",
              "    <path d=\"M0 0h24v24H0V0z\" fill=\"none\"/>\n",
              "    <path d=\"M18.56 5.44l.94 2.06.94-2.06 2.06-.94-2.06-.94-.94-2.06-.94 2.06-2.06.94zm-11 1L8.5 8.5l.94-2.06 2.06-.94-2.06-.94L8.5 2.5l-.94 2.06-2.06.94zm10 10l.94 2.06.94-2.06 2.06-.94-2.06-.94-.94-2.06-.94 2.06-2.06.94z\"/><path d=\"M17.41 7.96l-1.37-1.37c-.4-.4-.92-.59-1.43-.59-.52 0-1.04.2-1.43.59L10.3 9.45l-7.72 7.72c-.78.78-.78 2.05 0 2.83L4 21.41c.39.39.9.59 1.41.59.51 0 1.02-.2 1.41-.59l7.78-7.78 2.81-2.81c.8-.78.8-2.07 0-2.86zM5.41 20L4 18.59l7.72-7.72 1.47 1.35L5.41 20z\"/>\n",
              "  </svg>\n",
              "      </button>\n",
              "      \n",
              "  <style>\n",
              "    .colab-df-container {\n",
              "      display:flex;\n",
              "      flex-wrap:wrap;\n",
              "      gap: 12px;\n",
              "    }\n",
              "\n",
              "    .colab-df-convert {\n",
              "      background-color: #E8F0FE;\n",
              "      border: none;\n",
              "      border-radius: 50%;\n",
              "      cursor: pointer;\n",
              "      display: none;\n",
              "      fill: #1967D2;\n",
              "      height: 32px;\n",
              "      padding: 0 0 0 0;\n",
              "      width: 32px;\n",
              "    }\n",
              "\n",
              "    .colab-df-convert:hover {\n",
              "      background-color: #E2EBFA;\n",
              "      box-shadow: 0px 1px 2px rgba(60, 64, 67, 0.3), 0px 1px 3px 1px rgba(60, 64, 67, 0.15);\n",
              "      fill: #174EA6;\n",
              "    }\n",
              "\n",
              "    [theme=dark] .colab-df-convert {\n",
              "      background-color: #3B4455;\n",
              "      fill: #D2E3FC;\n",
              "    }\n",
              "\n",
              "    [theme=dark] .colab-df-convert:hover {\n",
              "      background-color: #434B5C;\n",
              "      box-shadow: 0px 1px 3px 1px rgba(0, 0, 0, 0.15);\n",
              "      filter: drop-shadow(0px 1px 2px rgba(0, 0, 0, 0.3));\n",
              "      fill: #FFFFFF;\n",
              "    }\n",
              "  </style>\n",
              "\n",
              "      <script>\n",
              "        const buttonEl =\n",
              "          document.querySelector('#df-ba863716-9e23-416d-b0e4-5a3dbb916255 button.colab-df-convert');\n",
              "        buttonEl.style.display =\n",
              "          google.colab.kernel.accessAllowed ? 'block' : 'none';\n",
              "\n",
              "        async function convertToInteractive(key) {\n",
              "          const element = document.querySelector('#df-ba863716-9e23-416d-b0e4-5a3dbb916255');\n",
              "          const dataTable =\n",
              "            await google.colab.kernel.invokeFunction('convertToInteractive',\n",
              "                                                     [key], {});\n",
              "          if (!dataTable) return;\n",
              "\n",
              "          const docLinkHtml = 'Like what you see? Visit the ' +\n",
              "            '<a target=\"_blank\" href=https://colab.research.google.com/notebooks/data_table.ipynb>data table notebook</a>'\n",
              "            + ' to learn more about interactive tables.';\n",
              "          element.innerHTML = '';\n",
              "          dataTable['output_type'] = 'display_data';\n",
              "          await google.colab.output.renderOutput(dataTable, element);\n",
              "          const docLink = document.createElement('div');\n",
              "          docLink.innerHTML = docLinkHtml;\n",
              "          element.appendChild(docLink);\n",
              "        }\n",
              "      </script>\n",
              "    </div>\n",
              "  </div>\n",
              "  "
            ],
            "text/plain": [
              "        0         1         2         3         4    ...  183  184  185  186  187\n",
              "0  0.977941  0.926471  0.681373  0.245098  0.154412  ...  0.0  0.0  0.0  0.0  0.0\n",
              "1  0.960114  0.863248  0.461538  0.196581  0.094017  ...  0.0  0.0  0.0  0.0  0.0\n",
              "2  1.000000  0.659459  0.186486  0.070270  0.070270  ...  0.0  0.0  0.0  0.0  0.0\n",
              "3  0.925414  0.665746  0.541436  0.276243  0.196133  ...  0.0  0.0  0.0  0.0  0.0\n",
              "4  0.967136  1.000000  0.830986  0.586854  0.356808  ...  0.0  0.0  0.0  0.0  0.0\n",
              "\n",
              "[5 rows x 188 columns]"
            ]
          },
          "metadata": {},
          "execution_count": 6
        }
      ]
    },
    {
      "cell_type": "code",
      "source": [
        "data.tail()"
      ],
      "metadata": {
        "colab": {
          "base_uri": "https://localhost:8080/",
          "height": 299
        },
        "id": "wlMqzDjh3b_K",
        "outputId": "321e8dad-bf80-4a05-da8f-a754bb3c2f41"
      },
      "execution_count": 7,
      "outputs": [
        {
          "output_type": "execute_result",
          "data": {
            "text/html": [
              "\n",
              "  <div id=\"df-6be1ca6c-2e65-4a58-9ce7-f05e48fefe5e\">\n",
              "    <div class=\"colab-df-container\">\n",
              "      <div>\n",
              "<style scoped>\n",
              "    .dataframe tbody tr th:only-of-type {\n",
              "        vertical-align: middle;\n",
              "    }\n",
              "\n",
              "    .dataframe tbody tr th {\n",
              "        vertical-align: top;\n",
              "    }\n",
              "\n",
              "    .dataframe thead th {\n",
              "        text-align: right;\n",
              "    }\n",
              "</style>\n",
              "<table border=\"1\" class=\"dataframe\">\n",
              "  <thead>\n",
              "    <tr style=\"text-align: right;\">\n",
              "      <th></th>\n",
              "      <th>0</th>\n",
              "      <th>1</th>\n",
              "      <th>2</th>\n",
              "      <th>3</th>\n",
              "      <th>4</th>\n",
              "      <th>5</th>\n",
              "      <th>6</th>\n",
              "      <th>7</th>\n",
              "      <th>8</th>\n",
              "      <th>9</th>\n",
              "      <th>10</th>\n",
              "      <th>11</th>\n",
              "      <th>12</th>\n",
              "      <th>13</th>\n",
              "      <th>14</th>\n",
              "      <th>15</th>\n",
              "      <th>16</th>\n",
              "      <th>17</th>\n",
              "      <th>18</th>\n",
              "      <th>19</th>\n",
              "      <th>20</th>\n",
              "      <th>21</th>\n",
              "      <th>22</th>\n",
              "      <th>23</th>\n",
              "      <th>24</th>\n",
              "      <th>25</th>\n",
              "      <th>26</th>\n",
              "      <th>27</th>\n",
              "      <th>28</th>\n",
              "      <th>29</th>\n",
              "      <th>30</th>\n",
              "      <th>31</th>\n",
              "      <th>32</th>\n",
              "      <th>33</th>\n",
              "      <th>34</th>\n",
              "      <th>35</th>\n",
              "      <th>36</th>\n",
              "      <th>37</th>\n",
              "      <th>38</th>\n",
              "      <th>39</th>\n",
              "      <th>...</th>\n",
              "      <th>148</th>\n",
              "      <th>149</th>\n",
              "      <th>150</th>\n",
              "      <th>151</th>\n",
              "      <th>152</th>\n",
              "      <th>153</th>\n",
              "      <th>154</th>\n",
              "      <th>155</th>\n",
              "      <th>156</th>\n",
              "      <th>157</th>\n",
              "      <th>158</th>\n",
              "      <th>159</th>\n",
              "      <th>160</th>\n",
              "      <th>161</th>\n",
              "      <th>162</th>\n",
              "      <th>163</th>\n",
              "      <th>164</th>\n",
              "      <th>165</th>\n",
              "      <th>166</th>\n",
              "      <th>167</th>\n",
              "      <th>168</th>\n",
              "      <th>169</th>\n",
              "      <th>170</th>\n",
              "      <th>171</th>\n",
              "      <th>172</th>\n",
              "      <th>173</th>\n",
              "      <th>174</th>\n",
              "      <th>175</th>\n",
              "      <th>176</th>\n",
              "      <th>177</th>\n",
              "      <th>178</th>\n",
              "      <th>179</th>\n",
              "      <th>180</th>\n",
              "      <th>181</th>\n",
              "      <th>182</th>\n",
              "      <th>183</th>\n",
              "      <th>184</th>\n",
              "      <th>185</th>\n",
              "      <th>186</th>\n",
              "      <th>187</th>\n",
              "    </tr>\n",
              "  </thead>\n",
              "  <tbody>\n",
              "    <tr>\n",
              "      <th>87549</th>\n",
              "      <td>0.807018</td>\n",
              "      <td>0.494737</td>\n",
              "      <td>0.536842</td>\n",
              "      <td>0.529825</td>\n",
              "      <td>0.491228</td>\n",
              "      <td>0.484211</td>\n",
              "      <td>0.456140</td>\n",
              "      <td>0.396491</td>\n",
              "      <td>0.284211</td>\n",
              "      <td>0.136842</td>\n",
              "      <td>0.052632</td>\n",
              "      <td>0.140351</td>\n",
              "      <td>0.119298</td>\n",
              "      <td>0.091228</td>\n",
              "      <td>0.140351</td>\n",
              "      <td>0.161404</td>\n",
              "      <td>0.105263</td>\n",
              "      <td>0.143860</td>\n",
              "      <td>0.143860</td>\n",
              "      <td>0.129825</td>\n",
              "      <td>0.147368</td>\n",
              "      <td>0.157895</td>\n",
              "      <td>0.164912</td>\n",
              "      <td>0.168421</td>\n",
              "      <td>0.154386</td>\n",
              "      <td>0.175439</td>\n",
              "      <td>0.164912</td>\n",
              "      <td>0.154386</td>\n",
              "      <td>0.182456</td>\n",
              "      <td>0.192982</td>\n",
              "      <td>0.196491</td>\n",
              "      <td>0.207018</td>\n",
              "      <td>0.217544</td>\n",
              "      <td>0.217544</td>\n",
              "      <td>0.256140</td>\n",
              "      <td>0.284211</td>\n",
              "      <td>0.294737</td>\n",
              "      <td>0.301754</td>\n",
              "      <td>0.301754</td>\n",
              "      <td>0.322807</td>\n",
              "      <td>...</td>\n",
              "      <td>0.0</td>\n",
              "      <td>0.0</td>\n",
              "      <td>0.0</td>\n",
              "      <td>0.0</td>\n",
              "      <td>0.0</td>\n",
              "      <td>0.0</td>\n",
              "      <td>0.0</td>\n",
              "      <td>0.0</td>\n",
              "      <td>0.0</td>\n",
              "      <td>0.0</td>\n",
              "      <td>0.0</td>\n",
              "      <td>0.0</td>\n",
              "      <td>0.0</td>\n",
              "      <td>0.0</td>\n",
              "      <td>0.0</td>\n",
              "      <td>0.0</td>\n",
              "      <td>0.0</td>\n",
              "      <td>0.0</td>\n",
              "      <td>0.0</td>\n",
              "      <td>0.0</td>\n",
              "      <td>0.0</td>\n",
              "      <td>0.0</td>\n",
              "      <td>0.0</td>\n",
              "      <td>0.0</td>\n",
              "      <td>0.0</td>\n",
              "      <td>0.0</td>\n",
              "      <td>0.0</td>\n",
              "      <td>0.0</td>\n",
              "      <td>0.0</td>\n",
              "      <td>0.0</td>\n",
              "      <td>0.0</td>\n",
              "      <td>0.0</td>\n",
              "      <td>0.0</td>\n",
              "      <td>0.0</td>\n",
              "      <td>0.0</td>\n",
              "      <td>0.0</td>\n",
              "      <td>0.0</td>\n",
              "      <td>0.0</td>\n",
              "      <td>0.0</td>\n",
              "      <td>4.0</td>\n",
              "    </tr>\n",
              "    <tr>\n",
              "      <th>87550</th>\n",
              "      <td>0.718333</td>\n",
              "      <td>0.605000</td>\n",
              "      <td>0.486667</td>\n",
              "      <td>0.361667</td>\n",
              "      <td>0.231667</td>\n",
              "      <td>0.120000</td>\n",
              "      <td>0.051667</td>\n",
              "      <td>0.001667</td>\n",
              "      <td>0.000000</td>\n",
              "      <td>0.013333</td>\n",
              "      <td>0.078333</td>\n",
              "      <td>0.183333</td>\n",
              "      <td>0.275000</td>\n",
              "      <td>0.315000</td>\n",
              "      <td>0.361667</td>\n",
              "      <td>0.430000</td>\n",
              "      <td>0.481667</td>\n",
              "      <td>0.526667</td>\n",
              "      <td>0.543333</td>\n",
              "      <td>0.563333</td>\n",
              "      <td>0.581667</td>\n",
              "      <td>0.588333</td>\n",
              "      <td>0.600000</td>\n",
              "      <td>0.603333</td>\n",
              "      <td>0.613333</td>\n",
              "      <td>0.621667</td>\n",
              "      <td>0.636667</td>\n",
              "      <td>0.651667</td>\n",
              "      <td>0.665000</td>\n",
              "      <td>0.681667</td>\n",
              "      <td>0.700000</td>\n",
              "      <td>0.711667</td>\n",
              "      <td>0.735000</td>\n",
              "      <td>0.763333</td>\n",
              "      <td>0.785000</td>\n",
              "      <td>0.810000</td>\n",
              "      <td>0.835000</td>\n",
              "      <td>0.856667</td>\n",
              "      <td>0.876667</td>\n",
              "      <td>0.880000</td>\n",
              "      <td>...</td>\n",
              "      <td>0.0</td>\n",
              "      <td>0.0</td>\n",
              "      <td>0.0</td>\n",
              "      <td>0.0</td>\n",
              "      <td>0.0</td>\n",
              "      <td>0.0</td>\n",
              "      <td>0.0</td>\n",
              "      <td>0.0</td>\n",
              "      <td>0.0</td>\n",
              "      <td>0.0</td>\n",
              "      <td>0.0</td>\n",
              "      <td>0.0</td>\n",
              "      <td>0.0</td>\n",
              "      <td>0.0</td>\n",
              "      <td>0.0</td>\n",
              "      <td>0.0</td>\n",
              "      <td>0.0</td>\n",
              "      <td>0.0</td>\n",
              "      <td>0.0</td>\n",
              "      <td>0.0</td>\n",
              "      <td>0.0</td>\n",
              "      <td>0.0</td>\n",
              "      <td>0.0</td>\n",
              "      <td>0.0</td>\n",
              "      <td>0.0</td>\n",
              "      <td>0.0</td>\n",
              "      <td>0.0</td>\n",
              "      <td>0.0</td>\n",
              "      <td>0.0</td>\n",
              "      <td>0.0</td>\n",
              "      <td>0.0</td>\n",
              "      <td>0.0</td>\n",
              "      <td>0.0</td>\n",
              "      <td>0.0</td>\n",
              "      <td>0.0</td>\n",
              "      <td>0.0</td>\n",
              "      <td>0.0</td>\n",
              "      <td>0.0</td>\n",
              "      <td>0.0</td>\n",
              "      <td>4.0</td>\n",
              "    </tr>\n",
              "    <tr>\n",
              "      <th>87551</th>\n",
              "      <td>0.906122</td>\n",
              "      <td>0.624490</td>\n",
              "      <td>0.595918</td>\n",
              "      <td>0.575510</td>\n",
              "      <td>0.530612</td>\n",
              "      <td>0.481633</td>\n",
              "      <td>0.444898</td>\n",
              "      <td>0.387755</td>\n",
              "      <td>0.322449</td>\n",
              "      <td>0.191837</td>\n",
              "      <td>0.097959</td>\n",
              "      <td>0.048980</td>\n",
              "      <td>0.036735</td>\n",
              "      <td>0.053061</td>\n",
              "      <td>0.053061</td>\n",
              "      <td>0.097959</td>\n",
              "      <td>0.183673</td>\n",
              "      <td>0.269388</td>\n",
              "      <td>0.351020</td>\n",
              "      <td>0.408163</td>\n",
              "      <td>0.436735</td>\n",
              "      <td>0.469388</td>\n",
              "      <td>0.481633</td>\n",
              "      <td>0.518367</td>\n",
              "      <td>0.530612</td>\n",
              "      <td>0.534694</td>\n",
              "      <td>0.555102</td>\n",
              "      <td>0.591837</td>\n",
              "      <td>0.628571</td>\n",
              "      <td>0.632653</td>\n",
              "      <td>0.624490</td>\n",
              "      <td>0.616327</td>\n",
              "      <td>0.616327</td>\n",
              "      <td>0.608163</td>\n",
              "      <td>0.608163</td>\n",
              "      <td>0.620408</td>\n",
              "      <td>0.628571</td>\n",
              "      <td>0.624490</td>\n",
              "      <td>0.632653</td>\n",
              "      <td>0.644898</td>\n",
              "      <td>...</td>\n",
              "      <td>0.0</td>\n",
              "      <td>0.0</td>\n",
              "      <td>0.0</td>\n",
              "      <td>0.0</td>\n",
              "      <td>0.0</td>\n",
              "      <td>0.0</td>\n",
              "      <td>0.0</td>\n",
              "      <td>0.0</td>\n",
              "      <td>0.0</td>\n",
              "      <td>0.0</td>\n",
              "      <td>0.0</td>\n",
              "      <td>0.0</td>\n",
              "      <td>0.0</td>\n",
              "      <td>0.0</td>\n",
              "      <td>0.0</td>\n",
              "      <td>0.0</td>\n",
              "      <td>0.0</td>\n",
              "      <td>0.0</td>\n",
              "      <td>0.0</td>\n",
              "      <td>0.0</td>\n",
              "      <td>0.0</td>\n",
              "      <td>0.0</td>\n",
              "      <td>0.0</td>\n",
              "      <td>0.0</td>\n",
              "      <td>0.0</td>\n",
              "      <td>0.0</td>\n",
              "      <td>0.0</td>\n",
              "      <td>0.0</td>\n",
              "      <td>0.0</td>\n",
              "      <td>0.0</td>\n",
              "      <td>0.0</td>\n",
              "      <td>0.0</td>\n",
              "      <td>0.0</td>\n",
              "      <td>0.0</td>\n",
              "      <td>0.0</td>\n",
              "      <td>0.0</td>\n",
              "      <td>0.0</td>\n",
              "      <td>0.0</td>\n",
              "      <td>0.0</td>\n",
              "      <td>4.0</td>\n",
              "    </tr>\n",
              "    <tr>\n",
              "      <th>87552</th>\n",
              "      <td>0.858228</td>\n",
              "      <td>0.645570</td>\n",
              "      <td>0.845570</td>\n",
              "      <td>0.248101</td>\n",
              "      <td>0.167089</td>\n",
              "      <td>0.131646</td>\n",
              "      <td>0.121519</td>\n",
              "      <td>0.121519</td>\n",
              "      <td>0.118987</td>\n",
              "      <td>0.103797</td>\n",
              "      <td>0.101266</td>\n",
              "      <td>0.101266</td>\n",
              "      <td>0.088608</td>\n",
              "      <td>0.081013</td>\n",
              "      <td>0.073418</td>\n",
              "      <td>0.065823</td>\n",
              "      <td>0.065823</td>\n",
              "      <td>0.053165</td>\n",
              "      <td>0.048101</td>\n",
              "      <td>0.037975</td>\n",
              "      <td>0.035443</td>\n",
              "      <td>0.025316</td>\n",
              "      <td>0.020253</td>\n",
              "      <td>0.020253</td>\n",
              "      <td>0.017722</td>\n",
              "      <td>0.002532</td>\n",
              "      <td>0.005063</td>\n",
              "      <td>0.007595</td>\n",
              "      <td>0.000000</td>\n",
              "      <td>0.010127</td>\n",
              "      <td>0.010127</td>\n",
              "      <td>0.015190</td>\n",
              "      <td>0.035443</td>\n",
              "      <td>0.040506</td>\n",
              "      <td>0.050633</td>\n",
              "      <td>0.058228</td>\n",
              "      <td>0.070886</td>\n",
              "      <td>0.086076</td>\n",
              "      <td>0.098734</td>\n",
              "      <td>0.106329</td>\n",
              "      <td>...</td>\n",
              "      <td>0.0</td>\n",
              "      <td>0.0</td>\n",
              "      <td>0.0</td>\n",
              "      <td>0.0</td>\n",
              "      <td>0.0</td>\n",
              "      <td>0.0</td>\n",
              "      <td>0.0</td>\n",
              "      <td>0.0</td>\n",
              "      <td>0.0</td>\n",
              "      <td>0.0</td>\n",
              "      <td>0.0</td>\n",
              "      <td>0.0</td>\n",
              "      <td>0.0</td>\n",
              "      <td>0.0</td>\n",
              "      <td>0.0</td>\n",
              "      <td>0.0</td>\n",
              "      <td>0.0</td>\n",
              "      <td>0.0</td>\n",
              "      <td>0.0</td>\n",
              "      <td>0.0</td>\n",
              "      <td>0.0</td>\n",
              "      <td>0.0</td>\n",
              "      <td>0.0</td>\n",
              "      <td>0.0</td>\n",
              "      <td>0.0</td>\n",
              "      <td>0.0</td>\n",
              "      <td>0.0</td>\n",
              "      <td>0.0</td>\n",
              "      <td>0.0</td>\n",
              "      <td>0.0</td>\n",
              "      <td>0.0</td>\n",
              "      <td>0.0</td>\n",
              "      <td>0.0</td>\n",
              "      <td>0.0</td>\n",
              "      <td>0.0</td>\n",
              "      <td>0.0</td>\n",
              "      <td>0.0</td>\n",
              "      <td>0.0</td>\n",
              "      <td>0.0</td>\n",
              "      <td>4.0</td>\n",
              "    </tr>\n",
              "    <tr>\n",
              "      <th>87553</th>\n",
              "      <td>0.901506</td>\n",
              "      <td>0.845886</td>\n",
              "      <td>0.800695</td>\n",
              "      <td>0.748552</td>\n",
              "      <td>0.687138</td>\n",
              "      <td>0.599073</td>\n",
              "      <td>0.512167</td>\n",
              "      <td>0.427578</td>\n",
              "      <td>0.395133</td>\n",
              "      <td>0.402086</td>\n",
              "      <td>0.370800</td>\n",
              "      <td>0.287370</td>\n",
              "      <td>0.236385</td>\n",
              "      <td>0.324450</td>\n",
              "      <td>0.403244</td>\n",
              "      <td>0.409038</td>\n",
              "      <td>0.407880</td>\n",
              "      <td>0.390498</td>\n",
              "      <td>0.390498</td>\n",
              "      <td>0.419467</td>\n",
              "      <td>0.443801</td>\n",
              "      <td>0.487833</td>\n",
              "      <td>0.544612</td>\n",
              "      <td>0.574739</td>\n",
              "      <td>0.582851</td>\n",
              "      <td>0.592121</td>\n",
              "      <td>0.601390</td>\n",
              "      <td>0.611819</td>\n",
              "      <td>0.624565</td>\n",
              "      <td>0.634994</td>\n",
              "      <td>0.650058</td>\n",
              "      <td>0.661645</td>\n",
              "      <td>0.677868</td>\n",
              "      <td>0.691773</td>\n",
              "      <td>0.712630</td>\n",
              "      <td>0.726535</td>\n",
              "      <td>0.741599</td>\n",
              "      <td>0.749710</td>\n",
              "      <td>0.761298</td>\n",
              "      <td>0.763615</td>\n",
              "      <td>...</td>\n",
              "      <td>0.0</td>\n",
              "      <td>0.0</td>\n",
              "      <td>0.0</td>\n",
              "      <td>0.0</td>\n",
              "      <td>0.0</td>\n",
              "      <td>0.0</td>\n",
              "      <td>0.0</td>\n",
              "      <td>0.0</td>\n",
              "      <td>0.0</td>\n",
              "      <td>0.0</td>\n",
              "      <td>0.0</td>\n",
              "      <td>0.0</td>\n",
              "      <td>0.0</td>\n",
              "      <td>0.0</td>\n",
              "      <td>0.0</td>\n",
              "      <td>0.0</td>\n",
              "      <td>0.0</td>\n",
              "      <td>0.0</td>\n",
              "      <td>0.0</td>\n",
              "      <td>0.0</td>\n",
              "      <td>0.0</td>\n",
              "      <td>0.0</td>\n",
              "      <td>0.0</td>\n",
              "      <td>0.0</td>\n",
              "      <td>0.0</td>\n",
              "      <td>0.0</td>\n",
              "      <td>0.0</td>\n",
              "      <td>0.0</td>\n",
              "      <td>0.0</td>\n",
              "      <td>0.0</td>\n",
              "      <td>0.0</td>\n",
              "      <td>0.0</td>\n",
              "      <td>0.0</td>\n",
              "      <td>0.0</td>\n",
              "      <td>0.0</td>\n",
              "      <td>0.0</td>\n",
              "      <td>0.0</td>\n",
              "      <td>0.0</td>\n",
              "      <td>0.0</td>\n",
              "      <td>4.0</td>\n",
              "    </tr>\n",
              "  </tbody>\n",
              "</table>\n",
              "<p>5 rows × 188 columns</p>\n",
              "</div>\n",
              "      <button class=\"colab-df-convert\" onclick=\"convertToInteractive('df-6be1ca6c-2e65-4a58-9ce7-f05e48fefe5e')\"\n",
              "              title=\"Convert this dataframe to an interactive table.\"\n",
              "              style=\"display:none;\">\n",
              "        \n",
              "  <svg xmlns=\"http://www.w3.org/2000/svg\" height=\"24px\"viewBox=\"0 0 24 24\"\n",
              "       width=\"24px\">\n",
              "    <path d=\"M0 0h24v24H0V0z\" fill=\"none\"/>\n",
              "    <path d=\"M18.56 5.44l.94 2.06.94-2.06 2.06-.94-2.06-.94-.94-2.06-.94 2.06-2.06.94zm-11 1L8.5 8.5l.94-2.06 2.06-.94-2.06-.94L8.5 2.5l-.94 2.06-2.06.94zm10 10l.94 2.06.94-2.06 2.06-.94-2.06-.94-.94-2.06-.94 2.06-2.06.94z\"/><path d=\"M17.41 7.96l-1.37-1.37c-.4-.4-.92-.59-1.43-.59-.52 0-1.04.2-1.43.59L10.3 9.45l-7.72 7.72c-.78.78-.78 2.05 0 2.83L4 21.41c.39.39.9.59 1.41.59.51 0 1.02-.2 1.41-.59l7.78-7.78 2.81-2.81c.8-.78.8-2.07 0-2.86zM5.41 20L4 18.59l7.72-7.72 1.47 1.35L5.41 20z\"/>\n",
              "  </svg>\n",
              "      </button>\n",
              "      \n",
              "  <style>\n",
              "    .colab-df-container {\n",
              "      display:flex;\n",
              "      flex-wrap:wrap;\n",
              "      gap: 12px;\n",
              "    }\n",
              "\n",
              "    .colab-df-convert {\n",
              "      background-color: #E8F0FE;\n",
              "      border: none;\n",
              "      border-radius: 50%;\n",
              "      cursor: pointer;\n",
              "      display: none;\n",
              "      fill: #1967D2;\n",
              "      height: 32px;\n",
              "      padding: 0 0 0 0;\n",
              "      width: 32px;\n",
              "    }\n",
              "\n",
              "    .colab-df-convert:hover {\n",
              "      background-color: #E2EBFA;\n",
              "      box-shadow: 0px 1px 2px rgba(60, 64, 67, 0.3), 0px 1px 3px 1px rgba(60, 64, 67, 0.15);\n",
              "      fill: #174EA6;\n",
              "    }\n",
              "\n",
              "    [theme=dark] .colab-df-convert {\n",
              "      background-color: #3B4455;\n",
              "      fill: #D2E3FC;\n",
              "    }\n",
              "\n",
              "    [theme=dark] .colab-df-convert:hover {\n",
              "      background-color: #434B5C;\n",
              "      box-shadow: 0px 1px 3px 1px rgba(0, 0, 0, 0.15);\n",
              "      filter: drop-shadow(0px 1px 2px rgba(0, 0, 0, 0.3));\n",
              "      fill: #FFFFFF;\n",
              "    }\n",
              "  </style>\n",
              "\n",
              "      <script>\n",
              "        const buttonEl =\n",
              "          document.querySelector('#df-6be1ca6c-2e65-4a58-9ce7-f05e48fefe5e button.colab-df-convert');\n",
              "        buttonEl.style.display =\n",
              "          google.colab.kernel.accessAllowed ? 'block' : 'none';\n",
              "\n",
              "        async function convertToInteractive(key) {\n",
              "          const element = document.querySelector('#df-6be1ca6c-2e65-4a58-9ce7-f05e48fefe5e');\n",
              "          const dataTable =\n",
              "            await google.colab.kernel.invokeFunction('convertToInteractive',\n",
              "                                                     [key], {});\n",
              "          if (!dataTable) return;\n",
              "\n",
              "          const docLinkHtml = 'Like what you see? Visit the ' +\n",
              "            '<a target=\"_blank\" href=https://colab.research.google.com/notebooks/data_table.ipynb>data table notebook</a>'\n",
              "            + ' to learn more about interactive tables.';\n",
              "          element.innerHTML = '';\n",
              "          dataTable['output_type'] = 'display_data';\n",
              "          await google.colab.output.renderOutput(dataTable, element);\n",
              "          const docLink = document.createElement('div');\n",
              "          docLink.innerHTML = docLinkHtml;\n",
              "          element.appendChild(docLink);\n",
              "        }\n",
              "      </script>\n",
              "    </div>\n",
              "  </div>\n",
              "  "
            ],
            "text/plain": [
              "            0         1         2         3    ...  184  185  186  187\n",
              "87549  0.807018  0.494737  0.536842  0.529825  ...  0.0  0.0  0.0  4.0\n",
              "87550  0.718333  0.605000  0.486667  0.361667  ...  0.0  0.0  0.0  4.0\n",
              "87551  0.906122  0.624490  0.595918  0.575510  ...  0.0  0.0  0.0  4.0\n",
              "87552  0.858228  0.645570  0.845570  0.248101  ...  0.0  0.0  0.0  4.0\n",
              "87553  0.901506  0.845886  0.800695  0.748552  ...  0.0  0.0  0.0  4.0\n",
              "\n",
              "[5 rows x 188 columns]"
            ]
          },
          "metadata": {},
          "execution_count": 7
        }
      ]
    },
    {
      "cell_type": "code",
      "source": [
        "data[187].unique()"
      ],
      "metadata": {
        "colab": {
          "base_uri": "https://localhost:8080/"
        },
        "id": "21HD_dNy4NHF",
        "outputId": "cce226b2-c385-4494-8ebd-af67156a07fb"
      },
      "execution_count": 8,
      "outputs": [
        {
          "output_type": "execute_result",
          "data": {
            "text/plain": [
              "array([0., 1., 2., 3., 4.])"
            ]
          },
          "metadata": {},
          "execution_count": 8
        }
      ]
    },
    {
      "cell_type": "code",
      "source": [
        "data[187].value_counts()"
      ],
      "metadata": {
        "colab": {
          "base_uri": "https://localhost:8080/"
        },
        "id": "nSSEBuXt40vJ",
        "outputId": "7f91a791-973c-4768-ede8-18fa403dac6a"
      },
      "execution_count": 9,
      "outputs": [
        {
          "output_type": "execute_result",
          "data": {
            "text/plain": [
              "0.0    72471\n",
              "4.0     6431\n",
              "2.0     5788\n",
              "1.0     2223\n",
              "3.0      641\n",
              "Name: 187, dtype: int64"
            ]
          },
          "metadata": {},
          "execution_count": 9
        }
      ]
    },
    {
      "cell_type": "code",
      "source": [
        "data[187].value_counts().plot(kind=\"bar\")"
      ],
      "metadata": {
        "colab": {
          "base_uri": "https://localhost:8080/",
          "height": 289
        },
        "id": "0s37AUAn44b4",
        "outputId": "462ca8c0-9773-4b97-f788-79256c8c05ec"
      },
      "execution_count": 10,
      "outputs": [
        {
          "output_type": "execute_result",
          "data": {
            "text/plain": [
              "<matplotlib.axes._subplots.AxesSubplot at 0x7f448d713e10>"
            ]
          },
          "metadata": {},
          "execution_count": 10
        },
        {
          "output_type": "display_data",
          "data": {
            "image/png": "[encoded data removed]",
            "text/plain": [
              "<Figure size 432x288 with 1 Axes>"
            ]
          },
          "metadata": {
            "needs_background": "light"
          }
        }
      ]
    },
    {
      "cell_type": "code",
      "source": [
        "data[187].value_counts().plot(kind=\"pie\")"
      ],
      "metadata": {
        "colab": {
          "base_uri": "https://localhost:8080/",
          "height": 266
        },
        "id": "ffCRAxOF4-e6",
        "outputId": "5d4b7145-3a91-485a-f147-e32dc5fd9d26"
      },
      "execution_count": 11,
      "outputs": [
        {
          "output_type": "execute_result",
          "data": {
            "text/plain": [
              "<matplotlib.axes._subplots.AxesSubplot at 0x7f448d61a510>"
            ]
          },
          "metadata": {},
          "execution_count": 11
        },
        {
          "output_type": "display_data",
          "data": {
            "image/png": "[encoded data removed]",
            "text/plain": [
              "<Figure size 432x288 with 1 Axes>"
            ]
          },
          "metadata": {}
        }
      ]
    },
    {
      "cell_type": "code",
      "source": [
        "print(\"Data has {} rows and {} columns.\".format(data.shape[0], data.shape[1]))"
      ],
      "metadata": {
        "colab": {
          "base_uri": "https://localhost:8080/"
        },
        "id": "Ed9bclbF5Dpb",
        "outputId": "ef80ad5d-8eb4-4f31-c5c8-3fede1e1abd6"
      },
      "execution_count": 12,
      "outputs": [
        {
          "output_type": "stream",
          "name": "stdout",
          "text": [
            "Data has 87554 rows and 188 columns.\n"
          ]
        }
      ]
    },
    {
      "cell_type": "code",
      "source": [
        "data.describe()"
      ],
      "metadata": {
        "colab": {
          "base_uri": "https://localhost:8080/",
          "height": 393
        },
        "id": "aIrgTqZl5LM8",
        "outputId": "e28e4677-6db6-4825-eeed-1b8fdc03fe8b"
      },
      "execution_count": 13,
      "outputs": [
        {
          "output_type": "execute_result",
          "data": {
            "text/html": [
              "\n",
              "  <div id=\"df-e738aa3e-d18f-4963-ae5c-0ae5056ba81b\">\n",
              "    <div class=\"colab-df-container\">\n",
              "      <div>\n",
              "<style scoped>\n",
              "    .dataframe tbody tr th:only-of-type {\n",
              "        vertical-align: middle;\n",
              "    }\n",
              "\n",
              "    .dataframe tbody tr th {\n",
              "        vertical-align: top;\n",
              "    }\n",
              "\n",
              "    .dataframe thead th {\n",
              "        text-align: right;\n",
              "    }\n",
              "</style>\n",
              "<table border=\"1\" class=\"dataframe\">\n",
              "  <thead>\n",
              "    <tr style=\"text-align: right;\">\n",
              "      <th></th>\n",
              "      <th>0</th>\n",
              "      <th>1</th>\n",
              "      <th>2</th>\n",
              "      <th>3</th>\n",
              "      <th>4</th>\n",
              "      <th>5</th>\n",
              "      <th>6</th>\n",
              "      <th>7</th>\n",
              "      <th>8</th>\n",
              "      <th>9</th>\n",
              "      <th>10</th>\n",
              "      <th>11</th>\n",
              "      <th>12</th>\n",
              "      <th>13</th>\n",
              "      <th>14</th>\n",
              "      <th>15</th>\n",
              "      <th>16</th>\n",
              "      <th>17</th>\n",
              "      <th>18</th>\n",
              "      <th>19</th>\n",
              "      <th>20</th>\n",
              "      <th>21</th>\n",
              "      <th>22</th>\n",
              "      <th>23</th>\n",
              "      <th>24</th>\n",
              "      <th>25</th>\n",
              "      <th>26</th>\n",
              "      <th>27</th>\n",
              "      <th>28</th>\n",
              "      <th>29</th>\n",
              "      <th>30</th>\n",
              "      <th>31</th>\n",
              "      <th>32</th>\n",
              "      <th>33</th>\n",
              "      <th>34</th>\n",
              "      <th>35</th>\n",
              "      <th>36</th>\n",
              "      <th>37</th>\n",
              "      <th>38</th>\n",
              "      <th>39</th>\n",
              "      <th>...</th>\n",
              "      <th>148</th>\n",
              "      <th>149</th>\n",
              "      <th>150</th>\n",
              "      <th>151</th>\n",
              "      <th>152</th>\n",
              "      <th>153</th>\n",
              "      <th>154</th>\n",
              "      <th>155</th>\n",
              "      <th>156</th>\n",
              "      <th>157</th>\n",
              "      <th>158</th>\n",
              "      <th>159</th>\n",
              "      <th>160</th>\n",
              "      <th>161</th>\n",
              "      <th>162</th>\n",
              "      <th>163</th>\n",
              "      <th>164</th>\n",
              "      <th>165</th>\n",
              "      <th>166</th>\n",
              "      <th>167</th>\n",
              "      <th>168</th>\n",
              "      <th>169</th>\n",
              "      <th>170</th>\n",
              "      <th>171</th>\n",
              "      <th>172</th>\n",
              "      <th>173</th>\n",
              "      <th>174</th>\n",
              "      <th>175</th>\n",
              "      <th>176</th>\n",
              "      <th>177</th>\n",
              "      <th>178</th>\n",
              "      <th>179</th>\n",
              "      <th>180</th>\n",
              "      <th>181</th>\n",
              "      <th>182</th>\n",
              "      <th>183</th>\n",
              "      <th>184</th>\n",
              "      <th>185</th>\n",
              "      <th>186</th>\n",
              "      <th>187</th>\n",
              "    </tr>\n",
              "  </thead>\n",
              "  <tbody>\n",
              "    <tr>\n",
              "      <th>count</th>\n",
              "      <td>87554.000000</td>\n",
              "      <td>87554.000000</td>\n",
              "      <td>87554.000000</td>\n",
              "      <td>87554.000000</td>\n",
              "      <td>87554.000000</td>\n",
              "      <td>87554.000000</td>\n",
              "      <td>87554.000000</td>\n",
              "      <td>87554.000000</td>\n",
              "      <td>87554.000000</td>\n",
              "      <td>87554.000000</td>\n",
              "      <td>87554.000000</td>\n",
              "      <td>87554.000000</td>\n",
              "      <td>87554.000000</td>\n",
              "      <td>87554.000000</td>\n",
              "      <td>87554.000000</td>\n",
              "      <td>87554.000000</td>\n",
              "      <td>87554.000000</td>\n",
              "      <td>87554.000000</td>\n",
              "      <td>87554.000000</td>\n",
              "      <td>87554.000000</td>\n",
              "      <td>87554.000000</td>\n",
              "      <td>87554.000000</td>\n",
              "      <td>87554.000000</td>\n",
              "      <td>87554.000000</td>\n",
              "      <td>87554.000000</td>\n",
              "      <td>87554.000000</td>\n",
              "      <td>87554.000000</td>\n",
              "      <td>87554.000000</td>\n",
              "      <td>87554.000000</td>\n",
              "      <td>87554.000000</td>\n",
              "      <td>87554.000000</td>\n",
              "      <td>87554.000000</td>\n",
              "      <td>87554.000000</td>\n",
              "      <td>87554.000000</td>\n",
              "      <td>87554.000000</td>\n",
              "      <td>87554.000000</td>\n",
              "      <td>87554.000000</td>\n",
              "      <td>87554.000000</td>\n",
              "      <td>87554.000000</td>\n",
              "      <td>87554.000000</td>\n",
              "      <td>...</td>\n",
              "      <td>87554.000000</td>\n",
              "      <td>87554.000000</td>\n",
              "      <td>87554.000000</td>\n",
              "      <td>87554.000000</td>\n",
              "      <td>87554.000000</td>\n",
              "      <td>87554.000000</td>\n",
              "      <td>87554.000000</td>\n",
              "      <td>87554.000000</td>\n",
              "      <td>87554.000000</td>\n",
              "      <td>87554.000000</td>\n",
              "      <td>87554.000000</td>\n",
              "      <td>87554.000000</td>\n",
              "      <td>87554.000000</td>\n",
              "      <td>87554.000000</td>\n",
              "      <td>87554.000000</td>\n",
              "      <td>87554.000000</td>\n",
              "      <td>87554.000000</td>\n",
              "      <td>87554.000000</td>\n",
              "      <td>87554.000000</td>\n",
              "      <td>87554.000000</td>\n",
              "      <td>87554.000000</td>\n",
              "      <td>87554.000000</td>\n",
              "      <td>87554.000000</td>\n",
              "      <td>87554.000000</td>\n",
              "      <td>87554.000000</td>\n",
              "      <td>87554.000000</td>\n",
              "      <td>87554.000000</td>\n",
              "      <td>87554.000000</td>\n",
              "      <td>87554.000000</td>\n",
              "      <td>87554.000000</td>\n",
              "      <td>87554.000000</td>\n",
              "      <td>87554.000000</td>\n",
              "      <td>87554.000000</td>\n",
              "      <td>87554.000000</td>\n",
              "      <td>87554.000000</td>\n",
              "      <td>87554.000000</td>\n",
              "      <td>87554.000000</td>\n",
              "      <td>87554.000000</td>\n",
              "      <td>87554.000000</td>\n",
              "      <td>87554.000000</td>\n",
              "    </tr>\n",
              "    <tr>\n",
              "      <th>mean</th>\n",
              "      <td>0.890360</td>\n",
              "      <td>0.758160</td>\n",
              "      <td>0.423972</td>\n",
              "      <td>0.219104</td>\n",
              "      <td>0.201127</td>\n",
              "      <td>0.210399</td>\n",
              "      <td>0.205808</td>\n",
              "      <td>0.201773</td>\n",
              "      <td>0.198691</td>\n",
              "      <td>0.196757</td>\n",
              "      <td>0.198778</td>\n",
              "      <td>0.203550</td>\n",
              "      <td>0.208776</td>\n",
              "      <td>0.212885</td>\n",
              "      <td>0.218393</td>\n",
              "      <td>0.224966</td>\n",
              "      <td>0.231377</td>\n",
              "      <td>0.237123</td>\n",
              "      <td>0.242582</td>\n",
              "      <td>0.247923</td>\n",
              "      <td>0.253749</td>\n",
              "      <td>0.259748</td>\n",
              "      <td>0.266244</td>\n",
              "      <td>0.272734</td>\n",
              "      <td>0.279355</td>\n",
              "      <td>0.285588</td>\n",
              "      <td>0.291808</td>\n",
              "      <td>0.297672</td>\n",
              "      <td>0.303384</td>\n",
              "      <td>0.308795</td>\n",
              "      <td>0.313890</td>\n",
              "      <td>0.318454</td>\n",
              "      <td>0.322087</td>\n",
              "      <td>0.324891</td>\n",
              "      <td>0.326737</td>\n",
              "      <td>0.327817</td>\n",
              "      <td>0.327931</td>\n",
              "      <td>0.326746</td>\n",
              "      <td>0.324326</td>\n",
              "      <td>0.320537</td>\n",
              "      <td>...</td>\n",
              "      <td>0.030729</td>\n",
              "      <td>0.029582</td>\n",
              "      <td>0.028531</td>\n",
              "      <td>0.027573</td>\n",
              "      <td>0.026875</td>\n",
              "      <td>0.025771</td>\n",
              "      <td>0.024823</td>\n",
              "      <td>0.023932</td>\n",
              "      <td>0.023060</td>\n",
              "      <td>0.022458</td>\n",
              "      <td>0.021809</td>\n",
              "      <td>0.021245</td>\n",
              "      <td>0.020623</td>\n",
              "      <td>0.020026</td>\n",
              "      <td>0.019534</td>\n",
              "      <td>0.019053</td>\n",
              "      <td>0.018592</td>\n",
              "      <td>0.017664</td>\n",
              "      <td>0.016740</td>\n",
              "      <td>0.015722</td>\n",
              "      <td>0.014402</td>\n",
              "      <td>0.013024</td>\n",
              "      <td>0.011625</td>\n",
              "      <td>0.010262</td>\n",
              "      <td>0.008929</td>\n",
              "      <td>0.008056</td>\n",
              "      <td>0.007278</td>\n",
              "      <td>0.006531</td>\n",
              "      <td>0.005981</td>\n",
              "      <td>0.005479</td>\n",
              "      <td>0.005025</td>\n",
              "      <td>0.004628</td>\n",
              "      <td>0.004291</td>\n",
              "      <td>0.003945</td>\n",
              "      <td>0.003681</td>\n",
              "      <td>0.003471</td>\n",
              "      <td>0.003221</td>\n",
              "      <td>0.002945</td>\n",
              "      <td>0.002807</td>\n",
              "      <td>0.473376</td>\n",
              "    </tr>\n",
              "    <tr>\n",
              "      <th>std</th>\n",
              "      <td>0.240909</td>\n",
              "      <td>0.221813</td>\n",
              "      <td>0.227305</td>\n",
              "      <td>0.206878</td>\n",
              "      <td>0.177058</td>\n",
              "      <td>0.171909</td>\n",
              "      <td>0.178481</td>\n",
              "      <td>0.177240</td>\n",
              "      <td>0.171778</td>\n",
              "      <td>0.168357</td>\n",
              "      <td>0.171796</td>\n",
              "      <td>0.176496</td>\n",
              "      <td>0.180274</td>\n",
              "      <td>0.184101</td>\n",
              "      <td>0.186963</td>\n",
              "      <td>0.190002</td>\n",
              "      <td>0.193899</td>\n",
              "      <td>0.198465</td>\n",
              "      <td>0.202855</td>\n",
              "      <td>0.207166</td>\n",
              "      <td>0.211187</td>\n",
              "      <td>0.214821</td>\n",
              "      <td>0.218450</td>\n",
              "      <td>0.221486</td>\n",
              "      <td>0.224031</td>\n",
              "      <td>0.225848</td>\n",
              "      <td>0.227133</td>\n",
              "      <td>0.227830</td>\n",
              "      <td>0.228436</td>\n",
              "      <td>0.228871</td>\n",
              "      <td>0.228760</td>\n",
              "      <td>0.228393</td>\n",
              "      <td>0.227472</td>\n",
              "      <td>0.226180</td>\n",
              "      <td>0.224659</td>\n",
              "      <td>0.223110</td>\n",
              "      <td>0.221352</td>\n",
              "      <td>0.219258</td>\n",
              "      <td>0.216884</td>\n",
              "      <td>0.214168</td>\n",
              "      <td>...</td>\n",
              "      <td>0.116516</td>\n",
              "      <td>0.114463</td>\n",
              "      <td>0.112686</td>\n",
              "      <td>0.111103</td>\n",
              "      <td>0.110513</td>\n",
              "      <td>0.108566</td>\n",
              "      <td>0.106493</td>\n",
              "      <td>0.104591</td>\n",
              "      <td>0.102658</td>\n",
              "      <td>0.101395</td>\n",
              "      <td>0.100201</td>\n",
              "      <td>0.099386</td>\n",
              "      <td>0.098327</td>\n",
              "      <td>0.096635</td>\n",
              "      <td>0.095729</td>\n",
              "      <td>0.095368</td>\n",
              "      <td>0.095055</td>\n",
              "      <td>0.092902</td>\n",
              "      <td>0.091118</td>\n",
              "      <td>0.088574</td>\n",
              "      <td>0.084638</td>\n",
              "      <td>0.079949</td>\n",
              "      <td>0.075307</td>\n",
              "      <td>0.069892</td>\n",
              "      <td>0.063994</td>\n",
              "      <td>0.060074</td>\n",
              "      <td>0.056404</td>\n",
              "      <td>0.052840</td>\n",
              "      <td>0.050006</td>\n",
              "      <td>0.046693</td>\n",
              "      <td>0.044154</td>\n",
              "      <td>0.042089</td>\n",
              "      <td>0.040525</td>\n",
              "      <td>0.038651</td>\n",
              "      <td>0.037193</td>\n",
              "      <td>0.036255</td>\n",
              "      <td>0.034789</td>\n",
              "      <td>0.032865</td>\n",
              "      <td>0.031924</td>\n",
              "      <td>1.143184</td>\n",
              "    </tr>\n",
              "    <tr>\n",
              "      <th>min</th>\n",
              "      <td>0.000000</td>\n",
              "      <td>0.000000</td>\n",
              "      <td>0.000000</td>\n",
              "      <td>0.000000</td>\n",
              "      <td>0.000000</td>\n",
              "      <td>0.000000</td>\n",
              "      <td>0.000000</td>\n",
              "      <td>0.000000</td>\n",
              "      <td>0.000000</td>\n",
              "      <td>0.000000</td>\n",
              "      <td>0.000000</td>\n",
              "      <td>0.000000</td>\n",
              "      <td>0.000000</td>\n",
              "      <td>0.000000</td>\n",
              "      <td>0.000000</td>\n",
              "      <td>0.000000</td>\n",
              "      <td>0.000000</td>\n",
              "      <td>0.000000</td>\n",
              "      <td>0.000000</td>\n",
              "      <td>0.000000</td>\n",
              "      <td>0.000000</td>\n",
              "      <td>0.000000</td>\n",
              "      <td>0.000000</td>\n",
              "      <td>0.000000</td>\n",
              "      <td>0.000000</td>\n",
              "      <td>0.000000</td>\n",
              "      <td>0.000000</td>\n",
              "      <td>0.000000</td>\n",
              "      <td>0.000000</td>\n",
              "      <td>0.000000</td>\n",
              "      <td>0.000000</td>\n",
              "      <td>0.000000</td>\n",
              "      <td>0.000000</td>\n",
              "      <td>0.000000</td>\n",
              "      <td>0.000000</td>\n",
              "      <td>0.000000</td>\n",
              "      <td>0.000000</td>\n",
              "      <td>0.000000</td>\n",
              "      <td>0.000000</td>\n",
              "      <td>0.000000</td>\n",
              "      <td>...</td>\n",
              "      <td>0.000000</td>\n",
              "      <td>0.000000</td>\n",
              "      <td>0.000000</td>\n",
              "      <td>0.000000</td>\n",
              "      <td>0.000000</td>\n",
              "      <td>0.000000</td>\n",
              "      <td>0.000000</td>\n",
              "      <td>0.000000</td>\n",
              "      <td>0.000000</td>\n",
              "      <td>0.000000</td>\n",
              "      <td>0.000000</td>\n",
              "      <td>0.000000</td>\n",
              "      <td>0.000000</td>\n",
              "      <td>0.000000</td>\n",
              "      <td>0.000000</td>\n",
              "      <td>0.000000</td>\n",
              "      <td>0.000000</td>\n",
              "      <td>0.000000</td>\n",
              "      <td>0.000000</td>\n",
              "      <td>0.000000</td>\n",
              "      <td>0.000000</td>\n",
              "      <td>0.000000</td>\n",
              "      <td>0.000000</td>\n",
              "      <td>0.000000</td>\n",
              "      <td>0.000000</td>\n",
              "      <td>0.000000</td>\n",
              "      <td>0.000000</td>\n",
              "      <td>0.000000</td>\n",
              "      <td>0.000000</td>\n",
              "      <td>0.000000</td>\n",
              "      <td>0.000000</td>\n",
              "      <td>0.000000</td>\n",
              "      <td>0.000000</td>\n",
              "      <td>0.000000</td>\n",
              "      <td>0.000000</td>\n",
              "      <td>0.000000</td>\n",
              "      <td>0.000000</td>\n",
              "      <td>0.000000</td>\n",
              "      <td>0.000000</td>\n",
              "      <td>0.000000</td>\n",
              "    </tr>\n",
              "    <tr>\n",
              "      <th>25%</th>\n",
              "      <td>0.921922</td>\n",
              "      <td>0.682486</td>\n",
              "      <td>0.250969</td>\n",
              "      <td>0.048458</td>\n",
              "      <td>0.082329</td>\n",
              "      <td>0.088416</td>\n",
              "      <td>0.073333</td>\n",
              "      <td>0.066116</td>\n",
              "      <td>0.065000</td>\n",
              "      <td>0.068639</td>\n",
              "      <td>0.070543</td>\n",
              "      <td>0.069182</td>\n",
              "      <td>0.068293</td>\n",
              "      <td>0.067744</td>\n",
              "      <td>0.070175</td>\n",
              "      <td>0.072993</td>\n",
              "      <td>0.074803</td>\n",
              "      <td>0.075972</td>\n",
              "      <td>0.076923</td>\n",
              "      <td>0.077872</td>\n",
              "      <td>0.079442</td>\n",
              "      <td>0.081911</td>\n",
              "      <td>0.085938</td>\n",
              "      <td>0.090032</td>\n",
              "      <td>0.094595</td>\n",
              "      <td>0.098901</td>\n",
              "      <td>0.103960</td>\n",
              "      <td>0.109348</td>\n",
              "      <td>0.114754</td>\n",
              "      <td>0.120730</td>\n",
              "      <td>0.127946</td>\n",
              "      <td>0.135962</td>\n",
              "      <td>0.144295</td>\n",
              "      <td>0.151852</td>\n",
              "      <td>0.157895</td>\n",
              "      <td>0.161035</td>\n",
              "      <td>0.161133</td>\n",
              "      <td>0.159383</td>\n",
              "      <td>0.157343</td>\n",
              "      <td>0.155388</td>\n",
              "      <td>...</td>\n",
              "      <td>0.000000</td>\n",
              "      <td>0.000000</td>\n",
              "      <td>0.000000</td>\n",
              "      <td>0.000000</td>\n",
              "      <td>0.000000</td>\n",
              "      <td>0.000000</td>\n",
              "      <td>0.000000</td>\n",
              "      <td>0.000000</td>\n",
              "      <td>0.000000</td>\n",
              "      <td>0.000000</td>\n",
              "      <td>0.000000</td>\n",
              "      <td>0.000000</td>\n",
              "      <td>0.000000</td>\n",
              "      <td>0.000000</td>\n",
              "      <td>0.000000</td>\n",
              "      <td>0.000000</td>\n",
              "      <td>0.000000</td>\n",
              "      <td>0.000000</td>\n",
              "      <td>0.000000</td>\n",
              "      <td>0.000000</td>\n",
              "      <td>0.000000</td>\n",
              "      <td>0.000000</td>\n",
              "      <td>0.000000</td>\n",
              "      <td>0.000000</td>\n",
              "      <td>0.000000</td>\n",
              "      <td>0.000000</td>\n",
              "      <td>0.000000</td>\n",
              "      <td>0.000000</td>\n",
              "      <td>0.000000</td>\n",
              "      <td>0.000000</td>\n",
              "      <td>0.000000</td>\n",
              "      <td>0.000000</td>\n",
              "      <td>0.000000</td>\n",
              "      <td>0.000000</td>\n",
              "      <td>0.000000</td>\n",
              "      <td>0.000000</td>\n",
              "      <td>0.000000</td>\n",
              "      <td>0.000000</td>\n",
              "      <td>0.000000</td>\n",
              "      <td>0.000000</td>\n",
              "    </tr>\n",
              "    <tr>\n",
              "      <th>50%</th>\n",
              "      <td>0.991342</td>\n",
              "      <td>0.826013</td>\n",
              "      <td>0.429472</td>\n",
              "      <td>0.166000</td>\n",
              "      <td>0.147878</td>\n",
              "      <td>0.158798</td>\n",
              "      <td>0.145324</td>\n",
              "      <td>0.144424</td>\n",
              "      <td>0.150000</td>\n",
              "      <td>0.148734</td>\n",
              "      <td>0.145985</td>\n",
              "      <td>0.148590</td>\n",
              "      <td>0.152951</td>\n",
              "      <td>0.156863</td>\n",
              "      <td>0.162636</td>\n",
              "      <td>0.169399</td>\n",
              "      <td>0.174603</td>\n",
              "      <td>0.178095</td>\n",
              "      <td>0.182683</td>\n",
              "      <td>0.187500</td>\n",
              "      <td>0.194595</td>\n",
              "      <td>0.203320</td>\n",
              "      <td>0.212290</td>\n",
              "      <td>0.221656</td>\n",
              "      <td>0.230179</td>\n",
              "      <td>0.238224</td>\n",
              "      <td>0.246450</td>\n",
              "      <td>0.254588</td>\n",
              "      <td>0.262767</td>\n",
              "      <td>0.269640</td>\n",
              "      <td>0.275770</td>\n",
              "      <td>0.279006</td>\n",
              "      <td>0.281879</td>\n",
              "      <td>0.285412</td>\n",
              "      <td>0.288538</td>\n",
              "      <td>0.289701</td>\n",
              "      <td>0.289104</td>\n",
              "      <td>0.284314</td>\n",
              "      <td>0.277630</td>\n",
              "      <td>0.269380</td>\n",
              "      <td>...</td>\n",
              "      <td>0.000000</td>\n",
              "      <td>0.000000</td>\n",
              "      <td>0.000000</td>\n",
              "      <td>0.000000</td>\n",
              "      <td>0.000000</td>\n",
              "      <td>0.000000</td>\n",
              "      <td>0.000000</td>\n",
              "      <td>0.000000</td>\n",
              "      <td>0.000000</td>\n",
              "      <td>0.000000</td>\n",
              "      <td>0.000000</td>\n",
              "      <td>0.000000</td>\n",
              "      <td>0.000000</td>\n",
              "      <td>0.000000</td>\n",
              "      <td>0.000000</td>\n",
              "      <td>0.000000</td>\n",
              "      <td>0.000000</td>\n",
              "      <td>0.000000</td>\n",
              "      <td>0.000000</td>\n",
              "      <td>0.000000</td>\n",
              "      <td>0.000000</td>\n",
              "      <td>0.000000</td>\n",
              "      <td>0.000000</td>\n",
              "      <td>0.000000</td>\n",
              "      <td>0.000000</td>\n",
              "      <td>0.000000</td>\n",
              "      <td>0.000000</td>\n",
              "      <td>0.000000</td>\n",
              "      <td>0.000000</td>\n",
              "      <td>0.000000</td>\n",
              "      <td>0.000000</td>\n",
              "      <td>0.000000</td>\n",
              "      <td>0.000000</td>\n",
              "      <td>0.000000</td>\n",
              "      <td>0.000000</td>\n",
              "      <td>0.000000</td>\n",
              "      <td>0.000000</td>\n",
              "      <td>0.000000</td>\n",
              "      <td>0.000000</td>\n",
              "      <td>0.000000</td>\n",
              "    </tr>\n",
              "    <tr>\n",
              "      <th>75%</th>\n",
              "      <td>1.000000</td>\n",
              "      <td>0.910506</td>\n",
              "      <td>0.578767</td>\n",
              "      <td>0.341727</td>\n",
              "      <td>0.258993</td>\n",
              "      <td>0.287628</td>\n",
              "      <td>0.298237</td>\n",
              "      <td>0.295391</td>\n",
              "      <td>0.290832</td>\n",
              "      <td>0.283636</td>\n",
              "      <td>0.287781</td>\n",
              "      <td>0.293367</td>\n",
              "      <td>0.303079</td>\n",
              "      <td>0.310992</td>\n",
              "      <td>0.316505</td>\n",
              "      <td>0.321809</td>\n",
              "      <td>0.328395</td>\n",
              "      <td>0.337449</td>\n",
              "      <td>0.347711</td>\n",
              "      <td>0.358127</td>\n",
              "      <td>0.369980</td>\n",
              "      <td>0.380402</td>\n",
              "      <td>0.390512</td>\n",
              "      <td>0.397552</td>\n",
              "      <td>0.404295</td>\n",
              "      <td>0.411821</td>\n",
              "      <td>0.421581</td>\n",
              "      <td>0.429688</td>\n",
              "      <td>0.434783</td>\n",
              "      <td>0.437034</td>\n",
              "      <td>0.437203</td>\n",
              "      <td>0.434868</td>\n",
              "      <td>0.430931</td>\n",
              "      <td>0.427273</td>\n",
              "      <td>0.426084</td>\n",
              "      <td>0.426699</td>\n",
              "      <td>0.428336</td>\n",
              "      <td>0.430604</td>\n",
              "      <td>0.432432</td>\n",
              "      <td>0.431188</td>\n",
              "      <td>...</td>\n",
              "      <td>0.000000</td>\n",
              "      <td>0.000000</td>\n",
              "      <td>0.000000</td>\n",
              "      <td>0.000000</td>\n",
              "      <td>0.000000</td>\n",
              "      <td>0.000000</td>\n",
              "      <td>0.000000</td>\n",
              "      <td>0.000000</td>\n",
              "      <td>0.000000</td>\n",
              "      <td>0.000000</td>\n",
              "      <td>0.000000</td>\n",
              "      <td>0.000000</td>\n",
              "      <td>0.000000</td>\n",
              "      <td>0.000000</td>\n",
              "      <td>0.000000</td>\n",
              "      <td>0.000000</td>\n",
              "      <td>0.000000</td>\n",
              "      <td>0.000000</td>\n",
              "      <td>0.000000</td>\n",
              "      <td>0.000000</td>\n",
              "      <td>0.000000</td>\n",
              "      <td>0.000000</td>\n",
              "      <td>0.000000</td>\n",
              "      <td>0.000000</td>\n",
              "      <td>0.000000</td>\n",
              "      <td>0.000000</td>\n",
              "      <td>0.000000</td>\n",
              "      <td>0.000000</td>\n",
              "      <td>0.000000</td>\n",
              "      <td>0.000000</td>\n",
              "      <td>0.000000</td>\n",
              "      <td>0.000000</td>\n",
              "      <td>0.000000</td>\n",
              "      <td>0.000000</td>\n",
              "      <td>0.000000</td>\n",
              "      <td>0.000000</td>\n",
              "      <td>0.000000</td>\n",
              "      <td>0.000000</td>\n",
              "      <td>0.000000</td>\n",
              "      <td>0.000000</td>\n",
              "    </tr>\n",
              "    <tr>\n",
              "      <th>max</th>\n",
              "      <td>1.000000</td>\n",
              "      <td>1.000000</td>\n",
              "      <td>1.000000</td>\n",
              "      <td>1.000000</td>\n",
              "      <td>1.000000</td>\n",
              "      <td>1.000000</td>\n",
              "      <td>1.000000</td>\n",
              "      <td>1.000000</td>\n",
              "      <td>1.000000</td>\n",
              "      <td>1.000000</td>\n",
              "      <td>1.000000</td>\n",
              "      <td>1.000000</td>\n",
              "      <td>1.000000</td>\n",
              "      <td>1.000000</td>\n",
              "      <td>1.000000</td>\n",
              "      <td>1.000000</td>\n",
              "      <td>1.000000</td>\n",
              "      <td>1.000000</td>\n",
              "      <td>1.000000</td>\n",
              "      <td>1.000000</td>\n",
              "      <td>1.000000</td>\n",
              "      <td>1.000000</td>\n",
              "      <td>1.000000</td>\n",
              "      <td>1.000000</td>\n",
              "      <td>1.000000</td>\n",
              "      <td>1.000000</td>\n",
              "      <td>1.000000</td>\n",
              "      <td>1.000000</td>\n",
              "      <td>1.000000</td>\n",
              "      <td>1.000000</td>\n",
              "      <td>1.000000</td>\n",
              "      <td>1.000000</td>\n",
              "      <td>1.000000</td>\n",
              "      <td>1.000000</td>\n",
              "      <td>1.000000</td>\n",
              "      <td>1.000000</td>\n",
              "      <td>1.000000</td>\n",
              "      <td>1.000000</td>\n",
              "      <td>1.000000</td>\n",
              "      <td>1.000000</td>\n",
              "      <td>...</td>\n",
              "      <td>1.000000</td>\n",
              "      <td>1.000000</td>\n",
              "      <td>1.000000</td>\n",
              "      <td>1.000000</td>\n",
              "      <td>1.000000</td>\n",
              "      <td>1.000000</td>\n",
              "      <td>1.000000</td>\n",
              "      <td>1.000000</td>\n",
              "      <td>1.000000</td>\n",
              "      <td>1.000000</td>\n",
              "      <td>1.000000</td>\n",
              "      <td>1.000000</td>\n",
              "      <td>1.000000</td>\n",
              "      <td>1.000000</td>\n",
              "      <td>1.000000</td>\n",
              "      <td>1.000000</td>\n",
              "      <td>1.000000</td>\n",
              "      <td>1.000000</td>\n",
              "      <td>1.000000</td>\n",
              "      <td>1.000000</td>\n",
              "      <td>1.000000</td>\n",
              "      <td>1.000000</td>\n",
              "      <td>1.000000</td>\n",
              "      <td>1.000000</td>\n",
              "      <td>1.000000</td>\n",
              "      <td>1.000000</td>\n",
              "      <td>1.000000</td>\n",
              "      <td>1.000000</td>\n",
              "      <td>1.000000</td>\n",
              "      <td>1.000000</td>\n",
              "      <td>1.000000</td>\n",
              "      <td>1.000000</td>\n",
              "      <td>1.000000</td>\n",
              "      <td>1.000000</td>\n",
              "      <td>1.000000</td>\n",
              "      <td>1.000000</td>\n",
              "      <td>1.000000</td>\n",
              "      <td>1.000000</td>\n",
              "      <td>1.000000</td>\n",
              "      <td>4.000000</td>\n",
              "    </tr>\n",
              "  </tbody>\n",
              "</table>\n",
              "<p>8 rows × 188 columns</p>\n",
              "</div>\n",
              "      <button class=\"colab-df-convert\" onclick=\"convertToInteractive('df-e738aa3e-d18f-4963-ae5c-0ae5056ba81b')\"\n",
              "              title=\"Convert this dataframe to an interactive table.\"\n",
              "              style=\"display:none;\">\n",
              "        \n",
              "  <svg xmlns=\"http://www.w3.org/2000/svg\" height=\"24px\"viewBox=\"0 0 24 24\"\n",
              "       width=\"24px\">\n",
              "    <path d=\"M0 0h24v24H0V0z\" fill=\"none\"/>\n",
              "    <path d=\"M18.56 5.44l.94 2.06.94-2.06 2.06-.94-2.06-.94-.94-2.06-.94 2.06-2.06.94zm-11 1L8.5 8.5l.94-2.06 2.06-.94-2.06-.94L8.5 2.5l-.94 2.06-2.06.94zm10 10l.94 2.06.94-2.06 2.06-.94-2.06-.94-.94-2.06-.94 2.06-2.06.94z\"/><path d=\"M17.41 7.96l-1.37-1.37c-.4-.4-.92-.59-1.43-.59-.52 0-1.04.2-1.43.59L10.3 9.45l-7.72 7.72c-.78.78-.78 2.05 0 2.83L4 21.41c.39.39.9.59 1.41.59.51 0 1.02-.2 1.41-.59l7.78-7.78 2.81-2.81c.8-.78.8-2.07 0-2.86zM5.41 20L4 18.59l7.72-7.72 1.47 1.35L5.41 20z\"/>\n",
              "  </svg>\n",
              "      </button>\n",
              "      \n",
              "  <style>\n",
              "    .colab-df-container {\n",
              "      display:flex;\n",
              "      flex-wrap:wrap;\n",
              "      gap: 12px;\n",
              "    }\n",
              "\n",
              "    .colab-df-convert {\n",
              "      background-color: #E8F0FE;\n",
              "      border: none;\n",
              "      border-radius: 50%;\n",
              "      cursor: pointer;\n",
              "      display: none;\n",
              "      fill: #1967D2;\n",
              "      height: 32px;\n",
              "      padding: 0 0 0 0;\n",
              "      width: 32px;\n",
              "    }\n",
              "\n",
              "    .colab-df-convert:hover {\n",
              "      background-color: #E2EBFA;\n",
              "      box-shadow: 0px 1px 2px rgba(60, 64, 67, 0.3), 0px 1px 3px 1px rgba(60, 64, 67, 0.15);\n",
              "      fill: #174EA6;\n",
              "    }\n",
              "\n",
              "    [theme=dark] .colab-df-convert {\n",
              "      background-color: #3B4455;\n",
              "      fill: #D2E3FC;\n",
              "    }\n",
              "\n",
              "    [theme=dark] .colab-df-convert:hover {\n",
              "      background-color: #434B5C;\n",
              "      box-shadow: 0px 1px 3px 1px rgba(0, 0, 0, 0.15);\n",
              "      filter: drop-shadow(0px 1px 2px rgba(0, 0, 0, 0.3));\n",
              "      fill: #FFFFFF;\n",
              "    }\n",
              "  </style>\n",
              "\n",
              "      <script>\n",
              "        const buttonEl =\n",
              "          document.querySelector('#df-e738aa3e-d18f-4963-ae5c-0ae5056ba81b button.colab-df-convert');\n",
              "        buttonEl.style.display =\n",
              "          google.colab.kernel.accessAllowed ? 'block' : 'none';\n",
              "\n",
              "        async function convertToInteractive(key) {\n",
              "          const element = document.querySelector('#df-e738aa3e-d18f-4963-ae5c-0ae5056ba81b');\n",
              "          const dataTable =\n",
              "            await google.colab.kernel.invokeFunction('convertToInteractive',\n",
              "                                                     [key], {});\n",
              "          if (!dataTable) return;\n",
              "\n",
              "          const docLinkHtml = 'Like what you see? Visit the ' +\n",
              "            '<a target=\"_blank\" href=https://colab.research.google.com/notebooks/data_table.ipynb>data table notebook</a>'\n",
              "            + ' to learn more about interactive tables.';\n",
              "          element.innerHTML = '';\n",
              "          dataTable['output_type'] = 'display_data';\n",
              "          await google.colab.output.renderOutput(dataTable, element);\n",
              "          const docLink = document.createElement('div');\n",
              "          docLink.innerHTML = docLinkHtml;\n",
              "          element.appendChild(docLink);\n",
              "        }\n",
              "      </script>\n",
              "    </div>\n",
              "  </div>\n",
              "  "
            ],
            "text/plain": [
              "                0             1    ...           186           187\n",
              "count  87554.000000  87554.000000  ...  87554.000000  87554.000000\n",
              "mean       0.890360      0.758160  ...      0.002807      0.473376\n",
              "std        0.240909      0.221813  ...      0.031924      1.143184\n",
              "min        0.000000      0.000000  ...      0.000000      0.000000\n",
              "25%        0.921922      0.682486  ...      0.000000      0.000000\n",
              "50%        0.991342      0.826013  ...      0.000000      0.000000\n",
              "75%        1.000000      0.910506  ...      0.000000      0.000000\n",
              "max        1.000000      1.000000  ...      1.000000      4.000000\n",
              "\n",
              "[8 rows x 188 columns]"
            ]
          },
          "metadata": {},
          "execution_count": 13
        }
      ]
    },
    {
      "cell_type": "code",
      "source": [
        "data.nunique()"
      ],
      "metadata": {
        "colab": {
          "base_uri": "https://localhost:8080/"
        },
        "id": "CV8EZkdh5Tzw",
        "outputId": "aac3aea7-8e4b-45a4-e063-37f998811dba"
      },
      "execution_count": 14,
      "outputs": [
        {
          "output_type": "execute_result",
          "data": {
            "text/plain": [
              "0      23408\n",
              "1      42845\n",
              "2      49611\n",
              "3      41007\n",
              "4      39328\n",
              "       ...  \n",
              "183      920\n",
              "184      843\n",
              "185      778\n",
              "186      748\n",
              "187        5\n",
              "Length: 188, dtype: int64"
            ]
          },
          "metadata": {},
          "execution_count": 14
        }
      ]
    },
    {
      "cell_type": "markdown",
      "source": [
        "**Cleaning the Data**"
      ],
      "metadata": {
        "id": "WxIAy-A45nTV"
      }
    },
    {
      "cell_type": "code",
      "source": [
        "data.isnull().sum()"
      ],
      "metadata": {
        "colab": {
          "base_uri": "https://localhost:8080/"
        },
        "id": "19nvxkTa5dzg",
        "outputId": "5e3841f9-f9e2-4cf4-9968-3deb7fd9edc4"
      },
      "execution_count": 15,
      "outputs": [
        {
          "output_type": "execute_result",
          "data": {
            "text/plain": [
              "0      0\n",
              "1      0\n",
              "2      0\n",
              "3      0\n",
              "4      0\n",
              "      ..\n",
              "183    0\n",
              "184    0\n",
              "185    0\n",
              "186    0\n",
              "187    0\n",
              "Length: 188, dtype: int64"
            ]
          },
          "metadata": {},
          "execution_count": 15
        }
      ]
    },
    {
      "cell_type": "code",
      "source": [
        "X = data.iloc[:, :-1]\n",
        "Y = data.iloc[:, -1]"
      ],
      "metadata": {
        "id": "FnW0RYmo5rVE"
      },
      "execution_count": 31,
      "outputs": []
    },
    {
      "cell_type": "code",
      "source": [
        "X.head()"
      ],
      "metadata": {
        "colab": {
          "base_uri": "https://localhost:8080/",
          "height": 299
        },
        "id": "d7c28kWz6GaZ",
        "outputId": "7451f104-e70b-4859-a4e2-6eb6ffca0e5e"
      },
      "execution_count": 17,
      "outputs": [
        {
          "output_type": "execute_result",
          "data": {
            "text/html": [
              "\n",
              "  <div id=\"df-e8cc81bb-bdf3-4b5b-867f-e996ff357374\">\n",
              "    <div class=\"colab-df-container\">\n",
              "      <div>\n",
              "<style scoped>\n",
              "    .dataframe tbody tr th:only-of-type {\n",
              "        vertical-align: middle;\n",
              "    }\n",
              "\n",
              "    .dataframe tbody tr th {\n",
              "        vertical-align: top;\n",
              "    }\n",
              "\n",
              "    .dataframe thead th {\n",
              "        text-align: right;\n",
              "    }\n",
              "</style>\n",
              "<table border=\"1\" class=\"dataframe\">\n",
              "  <thead>\n",
              "    <tr style=\"text-align: right;\">\n",
              "      <th></th>\n",
              "      <th>0</th>\n",
              "      <th>1</th>\n",
              "      <th>2</th>\n",
              "      <th>3</th>\n",
              "      <th>4</th>\n",
              "      <th>5</th>\n",
              "      <th>6</th>\n",
              "      <th>7</th>\n",
              "      <th>8</th>\n",
              "      <th>9</th>\n",
              "      <th>10</th>\n",
              "      <th>11</th>\n",
              "      <th>12</th>\n",
              "      <th>13</th>\n",
              "      <th>14</th>\n",
              "      <th>15</th>\n",
              "      <th>16</th>\n",
              "      <th>17</th>\n",
              "      <th>18</th>\n",
              "      <th>19</th>\n",
              "      <th>20</th>\n",
              "      <th>21</th>\n",
              "      <th>22</th>\n",
              "      <th>23</th>\n",
              "      <th>24</th>\n",
              "      <th>25</th>\n",
              "      <th>26</th>\n",
              "      <th>27</th>\n",
              "      <th>28</th>\n",
              "      <th>29</th>\n",
              "      <th>30</th>\n",
              "      <th>31</th>\n",
              "      <th>32</th>\n",
              "      <th>33</th>\n",
              "      <th>34</th>\n",
              "      <th>35</th>\n",
              "      <th>36</th>\n",
              "      <th>37</th>\n",
              "      <th>38</th>\n",
              "      <th>39</th>\n",
              "      <th>...</th>\n",
              "      <th>147</th>\n",
              "      <th>148</th>\n",
              "      <th>149</th>\n",
              "      <th>150</th>\n",
              "      <th>151</th>\n",
              "      <th>152</th>\n",
              "      <th>153</th>\n",
              "      <th>154</th>\n",
              "      <th>155</th>\n",
              "      <th>156</th>\n",
              "      <th>157</th>\n",
              "      <th>158</th>\n",
              "      <th>159</th>\n",
              "      <th>160</th>\n",
              "      <th>161</th>\n",
              "      <th>162</th>\n",
              "      <th>163</th>\n",
              "      <th>164</th>\n",
              "      <th>165</th>\n",
              "      <th>166</th>\n",
              "      <th>167</th>\n",
              "      <th>168</th>\n",
              "      <th>169</th>\n",
              "      <th>170</th>\n",
              "      <th>171</th>\n",
              "      <th>172</th>\n",
              "      <th>173</th>\n",
              "      <th>174</th>\n",
              "      <th>175</th>\n",
              "      <th>176</th>\n",
              "      <th>177</th>\n",
              "      <th>178</th>\n",
              "      <th>179</th>\n",
              "      <th>180</th>\n",
              "      <th>181</th>\n",
              "      <th>182</th>\n",
              "      <th>183</th>\n",
              "      <th>184</th>\n",
              "      <th>185</th>\n",
              "      <th>186</th>\n",
              "    </tr>\n",
              "  </thead>\n",
              "  <tbody>\n",
              "    <tr>\n",
              "      <th>0</th>\n",
              "      <td>0.977941</td>\n",
              "      <td>0.926471</td>\n",
              "      <td>0.681373</td>\n",
              "      <td>0.245098</td>\n",
              "      <td>0.154412</td>\n",
              "      <td>0.191176</td>\n",
              "      <td>0.151961</td>\n",
              "      <td>0.085784</td>\n",
              "      <td>0.058824</td>\n",
              "      <td>0.049020</td>\n",
              "      <td>0.044118</td>\n",
              "      <td>0.061275</td>\n",
              "      <td>0.066176</td>\n",
              "      <td>0.061275</td>\n",
              "      <td>0.049020</td>\n",
              "      <td>0.073529</td>\n",
              "      <td>0.061275</td>\n",
              "      <td>0.061275</td>\n",
              "      <td>0.066176</td>\n",
              "      <td>0.068627</td>\n",
              "      <td>0.095588</td>\n",
              "      <td>0.075980</td>\n",
              "      <td>0.093137</td>\n",
              "      <td>0.105392</td>\n",
              "      <td>0.115196</td>\n",
              "      <td>0.102941</td>\n",
              "      <td>0.117647</td>\n",
              "      <td>0.125000</td>\n",
              "      <td>0.142157</td>\n",
              "      <td>0.127451</td>\n",
              "      <td>0.151961</td>\n",
              "      <td>0.144608</td>\n",
              "      <td>0.164216</td>\n",
              "      <td>0.144608</td>\n",
              "      <td>0.159314</td>\n",
              "      <td>0.151961</td>\n",
              "      <td>0.154412</td>\n",
              "      <td>0.142157</td>\n",
              "      <td>0.151961</td>\n",
              "      <td>0.151961</td>\n",
              "      <td>...</td>\n",
              "      <td>0.0</td>\n",
              "      <td>0.0</td>\n",
              "      <td>0.0</td>\n",
              "      <td>0.0</td>\n",
              "      <td>0.0</td>\n",
              "      <td>0.0</td>\n",
              "      <td>0.0</td>\n",
              "      <td>0.0</td>\n",
              "      <td>0.0</td>\n",
              "      <td>0.0</td>\n",
              "      <td>0.0</td>\n",
              "      <td>0.0</td>\n",
              "      <td>0.0</td>\n",
              "      <td>0.0</td>\n",
              "      <td>0.0</td>\n",
              "      <td>0.0</td>\n",
              "      <td>0.0</td>\n",
              "      <td>0.0</td>\n",
              "      <td>0.0</td>\n",
              "      <td>0.0</td>\n",
              "      <td>0.0</td>\n",
              "      <td>0.0</td>\n",
              "      <td>0.0</td>\n",
              "      <td>0.0</td>\n",
              "      <td>0.0</td>\n",
              "      <td>0.0</td>\n",
              "      <td>0.0</td>\n",
              "      <td>0.0</td>\n",
              "      <td>0.0</td>\n",
              "      <td>0.0</td>\n",
              "      <td>0.0</td>\n",
              "      <td>0.0</td>\n",
              "      <td>0.0</td>\n",
              "      <td>0.0</td>\n",
              "      <td>0.0</td>\n",
              "      <td>0.0</td>\n",
              "      <td>0.0</td>\n",
              "      <td>0.0</td>\n",
              "      <td>0.0</td>\n",
              "      <td>0.0</td>\n",
              "    </tr>\n",
              "    <tr>\n",
              "      <th>1</th>\n",
              "      <td>0.960114</td>\n",
              "      <td>0.863248</td>\n",
              "      <td>0.461538</td>\n",
              "      <td>0.196581</td>\n",
              "      <td>0.094017</td>\n",
              "      <td>0.125356</td>\n",
              "      <td>0.099715</td>\n",
              "      <td>0.088319</td>\n",
              "      <td>0.074074</td>\n",
              "      <td>0.082621</td>\n",
              "      <td>0.074074</td>\n",
              "      <td>0.062678</td>\n",
              "      <td>0.065527</td>\n",
              "      <td>0.065527</td>\n",
              "      <td>0.062678</td>\n",
              "      <td>0.076923</td>\n",
              "      <td>0.071225</td>\n",
              "      <td>0.082621</td>\n",
              "      <td>0.091168</td>\n",
              "      <td>0.096866</td>\n",
              "      <td>0.082621</td>\n",
              "      <td>0.082621</td>\n",
              "      <td>0.091168</td>\n",
              "      <td>0.105413</td>\n",
              "      <td>0.122507</td>\n",
              "      <td>0.148148</td>\n",
              "      <td>0.182336</td>\n",
              "      <td>0.193732</td>\n",
              "      <td>0.213675</td>\n",
              "      <td>0.207977</td>\n",
              "      <td>0.222222</td>\n",
              "      <td>0.253561</td>\n",
              "      <td>0.270655</td>\n",
              "      <td>0.287749</td>\n",
              "      <td>0.284900</td>\n",
              "      <td>0.293447</td>\n",
              "      <td>0.256410</td>\n",
              "      <td>0.247863</td>\n",
              "      <td>0.188034</td>\n",
              "      <td>0.145299</td>\n",
              "      <td>...</td>\n",
              "      <td>0.0</td>\n",
              "      <td>0.0</td>\n",
              "      <td>0.0</td>\n",
              "      <td>0.0</td>\n",
              "      <td>0.0</td>\n",
              "      <td>0.0</td>\n",
              "      <td>0.0</td>\n",
              "      <td>0.0</td>\n",
              "      <td>0.0</td>\n",
              "      <td>0.0</td>\n",
              "      <td>0.0</td>\n",
              "      <td>0.0</td>\n",
              "      <td>0.0</td>\n",
              "      <td>0.0</td>\n",
              "      <td>0.0</td>\n",
              "      <td>0.0</td>\n",
              "      <td>0.0</td>\n",
              "      <td>0.0</td>\n",
              "      <td>0.0</td>\n",
              "      <td>0.0</td>\n",
              "      <td>0.0</td>\n",
              "      <td>0.0</td>\n",
              "      <td>0.0</td>\n",
              "      <td>0.0</td>\n",
              "      <td>0.0</td>\n",
              "      <td>0.0</td>\n",
              "      <td>0.0</td>\n",
              "      <td>0.0</td>\n",
              "      <td>0.0</td>\n",
              "      <td>0.0</td>\n",
              "      <td>0.0</td>\n",
              "      <td>0.0</td>\n",
              "      <td>0.0</td>\n",
              "      <td>0.0</td>\n",
              "      <td>0.0</td>\n",
              "      <td>0.0</td>\n",
              "      <td>0.0</td>\n",
              "      <td>0.0</td>\n",
              "      <td>0.0</td>\n",
              "      <td>0.0</td>\n",
              "    </tr>\n",
              "    <tr>\n",
              "      <th>2</th>\n",
              "      <td>1.000000</td>\n",
              "      <td>0.659459</td>\n",
              "      <td>0.186486</td>\n",
              "      <td>0.070270</td>\n",
              "      <td>0.070270</td>\n",
              "      <td>0.059459</td>\n",
              "      <td>0.056757</td>\n",
              "      <td>0.043243</td>\n",
              "      <td>0.054054</td>\n",
              "      <td>0.045946</td>\n",
              "      <td>0.056757</td>\n",
              "      <td>0.043243</td>\n",
              "      <td>0.067568</td>\n",
              "      <td>0.062162</td>\n",
              "      <td>0.078378</td>\n",
              "      <td>0.072973</td>\n",
              "      <td>0.086486</td>\n",
              "      <td>0.081081</td>\n",
              "      <td>0.108108</td>\n",
              "      <td>0.110811</td>\n",
              "      <td>0.135135</td>\n",
              "      <td>0.135135</td>\n",
              "      <td>0.170270</td>\n",
              "      <td>0.183784</td>\n",
              "      <td>0.216216</td>\n",
              "      <td>0.237838</td>\n",
              "      <td>0.270270</td>\n",
              "      <td>0.286486</td>\n",
              "      <td>0.316216</td>\n",
              "      <td>0.318919</td>\n",
              "      <td>0.332432</td>\n",
              "      <td>0.297297</td>\n",
              "      <td>0.267568</td>\n",
              "      <td>0.216216</td>\n",
              "      <td>0.189189</td>\n",
              "      <td>0.132432</td>\n",
              "      <td>0.118919</td>\n",
              "      <td>0.064865</td>\n",
              "      <td>0.064865</td>\n",
              "      <td>0.043243</td>\n",
              "      <td>...</td>\n",
              "      <td>0.0</td>\n",
              "      <td>0.0</td>\n",
              "      <td>0.0</td>\n",
              "      <td>0.0</td>\n",
              "      <td>0.0</td>\n",
              "      <td>0.0</td>\n",
              "      <td>0.0</td>\n",
              "      <td>0.0</td>\n",
              "      <td>0.0</td>\n",
              "      <td>0.0</td>\n",
              "      <td>0.0</td>\n",
              "      <td>0.0</td>\n",
              "      <td>0.0</td>\n",
              "      <td>0.0</td>\n",
              "      <td>0.0</td>\n",
              "      <td>0.0</td>\n",
              "      <td>0.0</td>\n",
              "      <td>0.0</td>\n",
              "      <td>0.0</td>\n",
              "      <td>0.0</td>\n",
              "      <td>0.0</td>\n",
              "      <td>0.0</td>\n",
              "      <td>0.0</td>\n",
              "      <td>0.0</td>\n",
              "      <td>0.0</td>\n",
              "      <td>0.0</td>\n",
              "      <td>0.0</td>\n",
              "      <td>0.0</td>\n",
              "      <td>0.0</td>\n",
              "      <td>0.0</td>\n",
              "      <td>0.0</td>\n",
              "      <td>0.0</td>\n",
              "      <td>0.0</td>\n",
              "      <td>0.0</td>\n",
              "      <td>0.0</td>\n",
              "      <td>0.0</td>\n",
              "      <td>0.0</td>\n",
              "      <td>0.0</td>\n",
              "      <td>0.0</td>\n",
              "      <td>0.0</td>\n",
              "    </tr>\n",
              "    <tr>\n",
              "      <th>3</th>\n",
              "      <td>0.925414</td>\n",
              "      <td>0.665746</td>\n",
              "      <td>0.541436</td>\n",
              "      <td>0.276243</td>\n",
              "      <td>0.196133</td>\n",
              "      <td>0.077348</td>\n",
              "      <td>0.071823</td>\n",
              "      <td>0.060773</td>\n",
              "      <td>0.066298</td>\n",
              "      <td>0.058011</td>\n",
              "      <td>0.063536</td>\n",
              "      <td>0.082873</td>\n",
              "      <td>0.085635</td>\n",
              "      <td>0.093923</td>\n",
              "      <td>0.113260</td>\n",
              "      <td>0.124309</td>\n",
              "      <td>0.140884</td>\n",
              "      <td>0.132597</td>\n",
              "      <td>0.140884</td>\n",
              "      <td>0.091160</td>\n",
              "      <td>0.085635</td>\n",
              "      <td>0.074586</td>\n",
              "      <td>0.071823</td>\n",
              "      <td>0.080110</td>\n",
              "      <td>0.096685</td>\n",
              "      <td>0.118785</td>\n",
              "      <td>0.138122</td>\n",
              "      <td>0.140884</td>\n",
              "      <td>0.138122</td>\n",
              "      <td>0.146409</td>\n",
              "      <td>0.110497</td>\n",
              "      <td>0.102210</td>\n",
              "      <td>0.060773</td>\n",
              "      <td>0.027624</td>\n",
              "      <td>0.038674</td>\n",
              "      <td>0.013812</td>\n",
              "      <td>0.011050</td>\n",
              "      <td>0.013812</td>\n",
              "      <td>0.033149</td>\n",
              "      <td>0.005525</td>\n",
              "      <td>...</td>\n",
              "      <td>0.0</td>\n",
              "      <td>0.0</td>\n",
              "      <td>0.0</td>\n",
              "      <td>0.0</td>\n",
              "      <td>0.0</td>\n",
              "      <td>0.0</td>\n",
              "      <td>0.0</td>\n",
              "      <td>0.0</td>\n",
              "      <td>0.0</td>\n",
              "      <td>0.0</td>\n",
              "      <td>0.0</td>\n",
              "      <td>0.0</td>\n",
              "      <td>0.0</td>\n",
              "      <td>0.0</td>\n",
              "      <td>0.0</td>\n",
              "      <td>0.0</td>\n",
              "      <td>0.0</td>\n",
              "      <td>0.0</td>\n",
              "      <td>0.0</td>\n",
              "      <td>0.0</td>\n",
              "      <td>0.0</td>\n",
              "      <td>0.0</td>\n",
              "      <td>0.0</td>\n",
              "      <td>0.0</td>\n",
              "      <td>0.0</td>\n",
              "      <td>0.0</td>\n",
              "      <td>0.0</td>\n",
              "      <td>0.0</td>\n",
              "      <td>0.0</td>\n",
              "      <td>0.0</td>\n",
              "      <td>0.0</td>\n",
              "      <td>0.0</td>\n",
              "      <td>0.0</td>\n",
              "      <td>0.0</td>\n",
              "      <td>0.0</td>\n",
              "      <td>0.0</td>\n",
              "      <td>0.0</td>\n",
              "      <td>0.0</td>\n",
              "      <td>0.0</td>\n",
              "      <td>0.0</td>\n",
              "    </tr>\n",
              "    <tr>\n",
              "      <th>4</th>\n",
              "      <td>0.967136</td>\n",
              "      <td>1.000000</td>\n",
              "      <td>0.830986</td>\n",
              "      <td>0.586854</td>\n",
              "      <td>0.356808</td>\n",
              "      <td>0.248826</td>\n",
              "      <td>0.145540</td>\n",
              "      <td>0.089202</td>\n",
              "      <td>0.117371</td>\n",
              "      <td>0.150235</td>\n",
              "      <td>0.131455</td>\n",
              "      <td>0.122066</td>\n",
              "      <td>0.140845</td>\n",
              "      <td>0.159624</td>\n",
              "      <td>0.150235</td>\n",
              "      <td>0.145540</td>\n",
              "      <td>0.136150</td>\n",
              "      <td>0.169014</td>\n",
              "      <td>0.178404</td>\n",
              "      <td>0.173709</td>\n",
              "      <td>0.183099</td>\n",
              "      <td>0.201878</td>\n",
              "      <td>0.187793</td>\n",
              "      <td>0.164319</td>\n",
              "      <td>0.187793</td>\n",
              "      <td>0.215962</td>\n",
              "      <td>0.215962</td>\n",
              "      <td>0.201878</td>\n",
              "      <td>0.211268</td>\n",
              "      <td>0.230047</td>\n",
              "      <td>0.215962</td>\n",
              "      <td>0.230047</td>\n",
              "      <td>0.239437</td>\n",
              "      <td>0.267606</td>\n",
              "      <td>0.253521</td>\n",
              "      <td>0.230047</td>\n",
              "      <td>0.220657</td>\n",
              "      <td>0.225352</td>\n",
              "      <td>0.211268</td>\n",
              "      <td>0.173709</td>\n",
              "      <td>...</td>\n",
              "      <td>0.0</td>\n",
              "      <td>0.0</td>\n",
              "      <td>0.0</td>\n",
              "      <td>0.0</td>\n",
              "      <td>0.0</td>\n",
              "      <td>0.0</td>\n",
              "      <td>0.0</td>\n",
              "      <td>0.0</td>\n",
              "      <td>0.0</td>\n",
              "      <td>0.0</td>\n",
              "      <td>0.0</td>\n",
              "      <td>0.0</td>\n",
              "      <td>0.0</td>\n",
              "      <td>0.0</td>\n",
              "      <td>0.0</td>\n",
              "      <td>0.0</td>\n",
              "      <td>0.0</td>\n",
              "      <td>0.0</td>\n",
              "      <td>0.0</td>\n",
              "      <td>0.0</td>\n",
              "      <td>0.0</td>\n",
              "      <td>0.0</td>\n",
              "      <td>0.0</td>\n",
              "      <td>0.0</td>\n",
              "      <td>0.0</td>\n",
              "      <td>0.0</td>\n",
              "      <td>0.0</td>\n",
              "      <td>0.0</td>\n",
              "      <td>0.0</td>\n",
              "      <td>0.0</td>\n",
              "      <td>0.0</td>\n",
              "      <td>0.0</td>\n",
              "      <td>0.0</td>\n",
              "      <td>0.0</td>\n",
              "      <td>0.0</td>\n",
              "      <td>0.0</td>\n",
              "      <td>0.0</td>\n",
              "      <td>0.0</td>\n",
              "      <td>0.0</td>\n",
              "      <td>0.0</td>\n",
              "    </tr>\n",
              "  </tbody>\n",
              "</table>\n",
              "<p>5 rows × 187 columns</p>\n",
              "</div>\n",
              "      <button class=\"colab-df-convert\" onclick=\"convertToInteractive('df-e8cc81bb-bdf3-4b5b-867f-e996ff357374')\"\n",
              "              title=\"Convert this dataframe to an interactive table.\"\n",
              "              style=\"display:none;\">\n",
              "        \n",
              "  <svg xmlns=\"http://www.w3.org/2000/svg\" height=\"24px\"viewBox=\"0 0 24 24\"\n",
              "       width=\"24px\">\n",
              "    <path d=\"M0 0h24v24H0V0z\" fill=\"none\"/>\n",
              "    <path d=\"M18.56 5.44l.94 2.06.94-2.06 2.06-.94-2.06-.94-.94-2.06-.94 2.06-2.06.94zm-11 1L8.5 8.5l.94-2.06 2.06-.94-2.06-.94L8.5 2.5l-.94 2.06-2.06.94zm10 10l.94 2.06.94-2.06 2.06-.94-2.06-.94-.94-2.06-.94 2.06-2.06.94z\"/><path d=\"M17.41 7.96l-1.37-1.37c-.4-.4-.92-.59-1.43-.59-.52 0-1.04.2-1.43.59L10.3 9.45l-7.72 7.72c-.78.78-.78 2.05 0 2.83L4 21.41c.39.39.9.59 1.41.59.51 0 1.02-.2 1.41-.59l7.78-7.78 2.81-2.81c.8-.78.8-2.07 0-2.86zM5.41 20L4 18.59l7.72-7.72 1.47 1.35L5.41 20z\"/>\n",
              "  </svg>\n",
              "      </button>\n",
              "      \n",
              "  <style>\n",
              "    .colab-df-container {\n",
              "      display:flex;\n",
              "      flex-wrap:wrap;\n",
              "      gap: 12px;\n",
              "    }\n",
              "\n",
              "    .colab-df-convert {\n",
              "      background-color: #E8F0FE;\n",
              "      border: none;\n",
              "      border-radius: 50%;\n",
              "      cursor: pointer;\n",
              "      display: none;\n",
              "      fill: #1967D2;\n",
              "      height: 32px;\n",
              "      padding: 0 0 0 0;\n",
              "      width: 32px;\n",
              "    }\n",
              "\n",
              "    .colab-df-convert:hover {\n",
              "      background-color: #E2EBFA;\n",
              "      box-shadow: 0px 1px 2px rgba(60, 64, 67, 0.3), 0px 1px 3px 1px rgba(60, 64, 67, 0.15);\n",
              "      fill: #174EA6;\n",
              "    }\n",
              "\n",
              "    [theme=dark] .colab-df-convert {\n",
              "      background-color: #3B4455;\n",
              "      fill: #D2E3FC;\n",
              "    }\n",
              "\n",
              "    [theme=dark] .colab-df-convert:hover {\n",
              "      background-color: #434B5C;\n",
              "      box-shadow: 0px 1px 3px 1px rgba(0, 0, 0, 0.15);\n",
              "      filter: drop-shadow(0px 1px 2px rgba(0, 0, 0, 0.3));\n",
              "      fill: #FFFFFF;\n",
              "    }\n",
              "  </style>\n",
              "\n",
              "      <script>\n",
              "        const buttonEl =\n",
              "          document.querySelector('#df-e8cc81bb-bdf3-4b5b-867f-e996ff357374 button.colab-df-convert');\n",
              "        buttonEl.style.display =\n",
              "          google.colab.kernel.accessAllowed ? 'block' : 'none';\n",
              "\n",
              "        async function convertToInteractive(key) {\n",
              "          const element = document.querySelector('#df-e8cc81bb-bdf3-4b5b-867f-e996ff357374');\n",
              "          const dataTable =\n",
              "            await google.colab.kernel.invokeFunction('convertToInteractive',\n",
              "                                                     [key], {});\n",
              "          if (!dataTable) return;\n",
              "\n",
              "          const docLinkHtml = 'Like what you see? Visit the ' +\n",
              "            '<a target=\"_blank\" href=https://colab.research.google.com/notebooks/data_table.ipynb>data table notebook</a>'\n",
              "            + ' to learn more about interactive tables.';\n",
              "          element.innerHTML = '';\n",
              "          dataTable['output_type'] = 'display_data';\n",
              "          await google.colab.output.renderOutput(dataTable, element);\n",
              "          const docLink = document.createElement('div');\n",
              "          docLink.innerHTML = docLinkHtml;\n",
              "          element.appendChild(docLink);\n",
              "        }\n",
              "      </script>\n",
              "    </div>\n",
              "  </div>\n",
              "  "
            ],
            "text/plain": [
              "        0         1         2         3         4    ...  182  183  184  185  186\n",
              "0  0.977941  0.926471  0.681373  0.245098  0.154412  ...  0.0  0.0  0.0  0.0  0.0\n",
              "1  0.960114  0.863248  0.461538  0.196581  0.094017  ...  0.0  0.0  0.0  0.0  0.0\n",
              "2  1.000000  0.659459  0.186486  0.070270  0.070270  ...  0.0  0.0  0.0  0.0  0.0\n",
              "3  0.925414  0.665746  0.541436  0.276243  0.196133  ...  0.0  0.0  0.0  0.0  0.0\n",
              "4  0.967136  1.000000  0.830986  0.586854  0.356808  ...  0.0  0.0  0.0  0.0  0.0\n",
              "\n",
              "[5 rows x 187 columns]"
            ]
          },
          "metadata": {},
          "execution_count": 17
        }
      ]
    },
    {
      "cell_type": "markdown",
      "source": [
        "**Relationship Analysis**"
      ],
      "metadata": {
        "id": "ps-xRT3d6Kgf"
      }
    },
    {
      "cell_type": "code",
      "source": [
        "corelation = X_data.corr()"
      ],
      "metadata": {
        "id": "rNBDhsOX6Hyp"
      },
      "execution_count": null,
      "outputs": []
    },
    {
      "cell_type": "markdown",
      "source": [
        "Relationship between all numerical columns"
      ],
      "metadata": {
        "id": "wUOs5Om678m4"
      }
    },
    {
      "cell_type": "code",
      "source": [
        "# sns.heatmap(corelation, xticklabels=corelation.columns, yticklabels=corelation.columns, annot=True)"
      ],
      "metadata": {
        "id": "gw_IjxwK6l9y"
      },
      "execution_count": 18,
      "outputs": []
    },
    {
      "cell_type": "markdown",
      "source": [
        "Relationship between two numerical or categorical columns"
      ],
      "metadata": {
        "id": "XPT_E8lX8Abn"
      }
    },
    {
      "cell_type": "code",
      "source": [
        "# sns.pairplot(X_data)"
      ],
      "metadata": {
        "id": "EaluFTRR7ZbP"
      },
      "execution_count": 19,
      "outputs": []
    },
    {
      "cell_type": "markdown",
      "source": [
        "Relationship between two numerical columns with respect to some column"
      ],
      "metadata": {
        "id": "VEa14zgZ8FtR"
      }
    },
    {
      "cell_type": "code",
      "source": [
        "sns.relplot(x = 185, y = 186, hue=187, data=data)"
      ],
      "metadata": {
        "colab": {
          "base_uri": "https://localhost:8080/",
          "height": 387
        },
        "id": "fWNUvqI77ojF",
        "outputId": "b18b9fbd-fe8b-4c09-d7e2-cb93f6c7b152"
      },
      "execution_count": 20,
      "outputs": [
        {
          "output_type": "execute_result",
          "data": {
            "text/plain": [
              "<seaborn.axisgrid.FacetGrid at 0x7f448d121a50>"
            ]
          },
          "metadata": {},
          "execution_count": 20
        },
        {
          "output_type": "display_data",
          "data": {
            "image/png": "[encoded data removed]",
            "text/plain": [
              "<Figure size 411.875x360 with 1 Axes>"
            ]
          },
          "metadata": {
            "needs_background": "light"
          }
        }
      ]
    },
    {
      "cell_type": "markdown",
      "source": [
        "Is to check distribution of data or particular column in the dataset"
      ],
      "metadata": {
        "id": "n4jWfs_u9JGJ"
      }
    },
    {
      "cell_type": "code",
      "source": [
        "sns.distplot(data[134])"
      ],
      "metadata": {
        "colab": {
          "base_uri": "https://localhost:8080/",
          "height": 353
        },
        "id": "TBIBOq5g8n6C",
        "outputId": "40b30a5a-f709-437f-969d-6f765b93ed04"
      },
      "execution_count": 21,
      "outputs": [
        {
          "output_type": "stream",
          "name": "stderr",
          "text": [
            "/usr/local/lib/python3.7/dist-packages/seaborn/distributions.py:2619: FutureWarning: `distplot` is a deprecated function and will be removed in a future version. Please adapt your code to use either `displot` (a figure-level function with similar flexibility) or `histplot` (an axes-level function for histograms).\n",
            "  warnings.warn(msg, FutureWarning)\n"
          ]
        },
        {
          "output_type": "execute_result",
          "data": {
            "text/plain": [
              "<matplotlib.axes._subplots.AxesSubplot at 0x7f448cff91d0>"
            ]
          },
          "metadata": {},
          "execution_count": 21
        },
        {
          "output_type": "display_data",
          "data": {
            "image/png": "[encoded data removed]",
            "text/plain": [
              "<Figure size 432x288 with 1 Axes>"
            ]
          },
          "metadata": {
            "needs_background": "light"
          }
        }
      ]
    },
    {
      "cell_type": "code",
      "source": [
        "# as we see more values lies on 0"
      ],
      "metadata": {
        "id": "jgpt9lMF88gA"
      },
      "execution_count": 22,
      "outputs": []
    },
    {
      "cell_type": "markdown",
      "source": [
        "Another plot to check distribution of particular column in data basically box plot is for categorical coulmns"
      ],
      "metadata": {
        "id": "uqrpAH5Z9qRX"
      }
    },
    {
      "cell_type": "code",
      "source": [
        "sns.catplot(x=134, kind=\"bar\", data=data)"
      ],
      "metadata": {
        "colab": {
          "base_uri": "https://localhost:8080/",
          "height": 387
        },
        "id": "aL3Ncexr9Y3w",
        "outputId": "3380fea5-98fd-4e5f-b085-4ad27291b8c5"
      },
      "execution_count": 23,
      "outputs": [
        {
          "output_type": "execute_result",
          "data": {
            "text/plain": [
              "<seaborn.axisgrid.FacetGrid at 0x7f448a758fd0>"
            ]
          },
          "metadata": {},
          "execution_count": 23
        },
        {
          "output_type": "display_data",
          "data": {
            "image/png": "[encoded data removed]",
            "text/plain": [
              "<Figure size 360x360 with 1 Axes>"
            ]
          },
          "metadata": {
            "needs_background": "light"
          }
        }
      ]
    },
    {
      "cell_type": "markdown",
      "source": [
        "**Spliting Dataset**"
      ],
      "metadata": {
        "id": "8r8nSw44-OtO"
      }
    },
    {
      "cell_type": "code",
      "source": [
        "from sklearn.model_selection import train_test_split\n",
        "from tensorflow.keras.utils import to_categorical\n",
        "from sklearn.utils import shuffle"
      ],
      "metadata": {
        "id": "CoZdGZx395NS"
      },
      "execution_count": 32,
      "outputs": []
    },
    {
      "cell_type": "code",
      "source": [
        "from sklearn.utils import shuffle\n",
        "x, y=shuffle(X, Y)\n",
        "x, y = x.values, y.values"
      ],
      "metadata": {
        "id": "6fWu4F-5GaSq"
      },
      "execution_count": 33,
      "outputs": []
    },
    {
      "cell_type": "markdown",
      "source": [
        "Using SMOTE to handle imbalance dataset"
      ],
      "metadata": {
        "id": "RzwyN8n6Tdja"
      }
    },
    {
      "cell_type": "code",
      "source": [
        "from collections import Counter\n",
        "counter_before = Counter(y)\n",
        "print(counter_before)"
      ],
      "metadata": {
        "colab": {
          "base_uri": "https://localhost:8080/"
        },
        "id": "ZAn-FLAZTc_1",
        "outputId": "8a68f6b7-d657-43d3-cef8-87927cfcc778"
      },
      "execution_count": 34,
      "outputs": [
        {
          "output_type": "stream",
          "name": "stdout",
          "text": [
            "Counter({0.0: 72471, 4.0: 6431, 2.0: 5788, 1.0: 2223, 3.0: 641})\n"
          ]
        }
      ]
    },
    {
      "cell_type": "code",
      "source": [
        "#applying SMOTE for imbalance\n",
        "from imblearn.over_sampling import SMOTE\n",
        "oversample = SMOTE()\n",
        "x_data, y_data = oversample.fit_resample(x, y)"
      ],
      "metadata": {
        "id": "civGNvg0Tn6a"
      },
      "execution_count": 35,
      "outputs": []
    },
    {
      "cell_type": "code",
      "source": [
        "from collections import Counter\n",
        "counter_after = Counter(y_data)\n",
        "print(counter_after)"
      ],
      "metadata": {
        "colab": {
          "base_uri": "https://localhost:8080/"
        },
        "id": "B0vyf9j0TuUu",
        "outputId": "39bcd355-9284-4ca4-f20a-2c359d8d16ba"
      },
      "execution_count": 36,
      "outputs": [
        {
          "output_type": "stream",
          "name": "stdout",
          "text": [
            "Counter({0.0: 72471, 2.0: 72471, 4.0: 72471, 3.0: 72471, 1.0: 72471})\n"
          ]
        }
      ]
    },
    {
      "cell_type": "code",
      "source": [
        "labels = to_categorical(y_data, num_classes=5).astype(int)"
      ],
      "metadata": {
        "id": "vjXENJqw-lvm"
      },
      "execution_count": 37,
      "outputs": []
    },
    {
      "cell_type": "code",
      "source": [
        "x_train, x_test, y_train, y_test = train_test_split(x_data, labels, random_state=42, test_size=0.2)"
      ],
      "metadata": {
        "id": "hVHymKfI-neW"
      },
      "execution_count": 38,
      "outputs": []
    },
    {
      "cell_type": "code",
      "source": [
        "X_train = np.array(x_train).reshape(x_train.shape[0], x_train.shape[1], 1)\n",
        "X_test = np.array(x_test).reshape(x_test.shape[0], x_test.shape[1], 1)"
      ],
      "metadata": {
        "id": "4wrbYZarT8VN"
      },
      "execution_count": 39,
      "outputs": []
    },
    {
      "cell_type": "code",
      "source": [
        "x_train.shape"
      ],
      "metadata": {
        "id": "bykGPduD-zSH",
        "colab": {
          "base_uri": "https://localhost:8080/"
        },
        "outputId": "8c8e4f88-2e85-4079-d8dc-e11a54941a1d"
      },
      "execution_count": 40,
      "outputs": [
        {
          "output_type": "execute_result",
          "data": {
            "text/plain": [
              "(289884, 187)"
            ]
          },
          "metadata": {},
          "execution_count": 40
        }
      ]
    },
    {
      "cell_type": "code",
      "source": [
        "x_test.shape"
      ],
      "metadata": {
        "colab": {
          "base_uri": "https://localhost:8080/"
        },
        "id": "VDb4IikuBVgK",
        "outputId": "be849456-fd25-46bf-d358-a873015151c3"
      },
      "execution_count": 41,
      "outputs": [
        {
          "output_type": "execute_result",
          "data": {
            "text/plain": [
              "(72471, 187)"
            ]
          },
          "metadata": {},
          "execution_count": 41
        }
      ]
    },
    {
      "cell_type": "code",
      "source": [
        "y_train.shape"
      ],
      "metadata": {
        "colab": {
          "base_uri": "https://localhost:8080/"
        },
        "id": "2H9TqpZUBYpu",
        "outputId": "638ee270-68ff-43de-bfaf-39898b3666c1"
      },
      "execution_count": 42,
      "outputs": [
        {
          "output_type": "execute_result",
          "data": {
            "text/plain": [
              "(289884, 5)"
            ]
          },
          "metadata": {},
          "execution_count": 42
        }
      ]
    },
    {
      "cell_type": "code",
      "source": [
        "y_test.shape"
      ],
      "metadata": {
        "colab": {
          "base_uri": "https://localhost:8080/"
        },
        "id": "l82oGtZhGJmK",
        "outputId": "2b823635-6b71-41dc-aed2-728c330eb330"
      },
      "execution_count": 43,
      "outputs": [
        {
          "output_type": "execute_result",
          "data": {
            "text/plain": [
              "(72471, 5)"
            ]
          },
          "metadata": {},
          "execution_count": 43
        }
      ]
    },
    {
      "cell_type": "code",
      "source": [
        "print(\"X Train shape: \", x_train.shape)\n",
        "print(\"X Test shape: \", x_test.shape)"
      ],
      "metadata": {
        "colab": {
          "base_uri": "https://localhost:8080/"
        },
        "id": "u7Th_9FKVFxy",
        "outputId": "84cb4d63-802b-4a19-c16f-c585e26c7608"
      },
      "execution_count": 44,
      "outputs": [
        {
          "output_type": "stream",
          "name": "stdout",
          "text": [
            "X Train shape:  (289884, 187)\n",
            "X Test shape:  (72471, 187)\n"
          ]
        }
      ]
    },
    {
      "cell_type": "markdown",
      "source": [
        "**Model**"
      ],
      "metadata": {
        "id": "vToTbM4VHgDo"
      }
    },
    {
      "cell_type": "code",
      "source": [
        "import tensorflow as tf"
      ],
      "metadata": {
        "id": "0iQBNhtMGK9X"
      },
      "execution_count": 45,
      "outputs": []
    },
    {
      "cell_type": "code",
      "source": [
        "# Conv Layers\n",
        "\n",
        "inp = tf.keras.layers.Input(shape=(x_train.shape[1],1))\n",
        "u1 = tf.keras.layers.Conv1D(filters=32, kernel_size=(3), padding='same', activation=tf.keras.layers.LeakyReLU(alpha=0.001))(inp)\n",
        "u2 = tf.keras.layers.MaxPooling1D(pool_size=(2))(u1)\n",
        "u3 = tf.keras.layers.Dropout(rate=0.2)(u2)\n",
        "u4 = tf.keras.layers.Conv1D(filters=64, kernel_size=(3), padding='same', activation=tf.keras.layers.LeakyReLU(alpha=0.001))(u3)\n",
        "u5 = tf.keras.layers.MaxPooling1D(pool_size=(2))(u4)\n",
        "u6 = tf.keras.layers.Dropout(rate=0.2)(u5)\n",
        "u7 = tf.keras.layers.Conv1D(filters=64, kernel_size=(3), padding='same', activation=tf.keras.layers.LeakyReLU(alpha=0.001))(u6)\n",
        "u8 = tf.keras.layers.MaxPooling1D(pool_size=(2))(u7)\n",
        "u9 = tf.keras.layers.Dropout(rate=0.2)(u8)\n",
        "\n",
        "f = tf.keras.layers.Flatten()(u9)\n",
        "l1 = tf.keras.layers.Dense(units=512)(f)\n",
        "l2 = tf.keras.layers.LeakyReLU(alpha=0.001)(l1)\n",
        "l3 = tf.keras.layers.BatchNormalization()(l2)\n",
        "l4 = tf.keras.layers.Dense(units=256)(l3)\n",
        "l5 = tf.keras.layers.LeakyReLU(alpha=0.001)(l4)\n",
        "l6 = tf.keras.layers.BatchNormalization()(l5)\n",
        "l7 = tf.keras.layers.Dense(units=128)(l6)\n",
        "l8 = tf.keras.layers.LeakyReLU(alpha=0.001)(l7)\n",
        "l9 = tf.keras.layers.BatchNormalization()(l8)\n",
        "l10 = tf.keras.layers.Dense(units=5)(l9)\n",
        "outputs = tf.keras.layers.Activation(\"softmax\")(l10)\n",
        "\n",
        "model = tf.keras.models.Model(inputs = [inp], outputs = [outputs])"
      ],
      "metadata": {
        "id": "E_LX-jQwM-32"
      },
      "execution_count": 65,
      "outputs": []
    },
    {
      "cell_type": "code",
      "source": [
        "model.summary()"
      ],
      "metadata": {
        "colab": {
          "base_uri": "https://localhost:8080/"
        },
        "id": "yrtC-TzVJfvi",
        "outputId": "d7b8c0cb-9518-40af-b975-a9529b043b83"
      },
      "execution_count": 66,
      "outputs": [
        {
          "output_type": "stream",
          "name": "stdout",
          "text": [
            "Model: \"model_2\"\n",
            "_________________________________________________________________\n",
            " Layer (type)                Output Shape              Param #   \n",
            "=================================================================\n",
            " input_3 (InputLayer)        [(None, 187, 1)]          0         \n",
            "                                                                 \n",
            " conv1d_6 (Conv1D)           (None, 187, 32)           128       \n",
            "                                                                 \n",
            " max_pooling1d_6 (MaxPooling  (None, 93, 32)           0         \n",
            " 1D)                                                             \n",
            "                                                                 \n",
            " dropout_6 (Dropout)         (None, 93, 32)            0         \n",
            "                                                                 \n",
            " conv1d_7 (Conv1D)           (None, 93, 64)            6208      \n",
            "                                                                 \n",
            " max_pooling1d_7 (MaxPooling  (None, 46, 64)           0         \n",
            " 1D)                                                             \n",
            "                                                                 \n",
            " dropout_7 (Dropout)         (None, 46, 64)            0         \n",
            "                                                                 \n",
            " conv1d_8 (Conv1D)           (None, 46, 64)            12352     \n",
            "                                                                 \n",
            " max_pooling1d_8 (MaxPooling  (None, 23, 64)           0         \n",
            " 1D)                                                             \n",
            "                                                                 \n",
            " dropout_8 (Dropout)         (None, 23, 64)            0         \n",
            "                                                                 \n",
            " flatten_2 (Flatten)         (None, 1472)              0         \n",
            "                                                                 \n",
            " dense_7 (Dense)             (None, 512)               754176    \n",
            "                                                                 \n",
            " leaky_re_lu_14 (LeakyReLU)  (None, 512)               0         \n",
            "                                                                 \n",
            " batch_normalization_5 (Batc  (None, 512)              2048      \n",
            " hNormalization)                                                 \n",
            "                                                                 \n",
            " dense_8 (Dense)             (None, 256)               131328    \n",
            "                                                                 \n",
            " leaky_re_lu_15 (LeakyReLU)  (None, 256)               0         \n",
            "                                                                 \n",
            " batch_normalization_6 (Batc  (None, 256)              1024      \n",
            " hNormalization)                                                 \n",
            "                                                                 \n",
            " dense_9 (Dense)             (None, 128)               32896     \n",
            "                                                                 \n",
            " leaky_re_lu_16 (LeakyReLU)  (None, 128)               0         \n",
            "                                                                 \n",
            " batch_normalization_7 (Batc  (None, 128)              512       \n",
            " hNormalization)                                                 \n",
            "                                                                 \n",
            " dense_10 (Dense)            (None, 5)                 645       \n",
            "                                                                 \n",
            " activation_2 (Activation)   (None, 5)                 0         \n",
            "                                                                 \n",
            "=================================================================\n",
            "Total params: 941,317\n",
            "Trainable params: 939,525\n",
            "Non-trainable params: 1,792\n",
            "_________________________________________________________________\n"
          ]
        }
      ]
    },
    {
      "cell_type": "code",
      "source": [
        "model.compile(loss=\"categorical_crossentropy\", optimizer=\"adam\", metrics=[\"accuracy\"])"
      ],
      "metadata": {
        "id": "mCd0XuJ6Koxj"
      },
      "execution_count": 67,
      "outputs": []
    },
    {
      "cell_type": "code",
      "source": [
        "earlyStopping = tf.keras.callbacks.EarlyStopping(patience=10,mode='max',monitor='val_loss',restore_best_weights=True)\n",
        "reduceLR = tf.keras.callbacks.ReduceLROnPlateau(monitor='val_loss',min_lr=0.0001)\n",
        "modelCheck = tf.keras.callbacks.ModelCheckpoint(filepath='model.h5',monitor='val_loss',save_best_only=True)\n",
        "callbacks=[earlyStopping,reduceLR,modelCheck]"
      ],
      "metadata": {
        "id": "XK0Vtq5SJ_WJ"
      },
      "execution_count": 68,
      "outputs": []
    },
    {
      "cell_type": "code",
      "source": [
        "BATCH = 256\n",
        "EPOCHS = 30"
      ],
      "metadata": {
        "id": "TqtyCkakMw_G"
      },
      "execution_count": 69,
      "outputs": []
    },
    {
      "cell_type": "code",
      "source": [
        "history = model.fit(\n",
        "  x_train, y_train,\n",
        "  validation_data=(x_test ,y_test),\n",
        "  epochs=EPOCHS,\n",
        "  batch_size=BATCH\n",
        "  # callbacks=callbacks\n",
        ")"
      ],
      "metadata": {
        "colab": {
          "base_uri": "https://localhost:8080/"
        },
        "id": "ZGkEGc96L-Fw",
        "outputId": "dc9ea8b6-2261-470b-d3ba-93618a06706c"
      },
      "execution_count": 70,
      "outputs": [
        {
          "output_type": "stream",
          "name": "stdout",
          "text": [
            "Epoch 1/30\n",
            "1133/1133 [==============================] - 22s 18ms/step - loss: 0.2105 - accuracy: 0.9237 - val_loss: 0.1641 - val_accuracy: 0.9390\n",
            "Epoch 2/30\n",
            "1133/1133 [==============================] - 20s 18ms/step - loss: 0.0851 - accuracy: 0.9698 - val_loss: 0.0527 - val_accuracy: 0.9814\n",
            "Epoch 3/30\n",
            "1133/1133 [==============================] - 20s 18ms/step - loss: 0.0598 - accuracy: 0.9789 - val_loss: 0.0381 - val_accuracy: 0.9874\n",
            "Epoch 4/30\n",
            "1133/1133 [==============================] - 20s 18ms/step - loss: 0.0485 - accuracy: 0.9830 - val_loss: 0.0321 - val_accuracy: 0.9888\n",
            "Epoch 5/30\n",
            "1133/1133 [==============================] - 20s 18ms/step - loss: 0.0415 - accuracy: 0.9857 - val_loss: 0.0297 - val_accuracy: 0.9902\n",
            "Epoch 6/30\n",
            "1133/1133 [==============================] - 20s 17ms/step - loss: 0.0369 - accuracy: 0.9871 - val_loss: 0.0283 - val_accuracy: 0.9897\n",
            "Epoch 7/30\n",
            "1133/1133 [==============================] - 19s 17ms/step - loss: 0.0335 - accuracy: 0.9886 - val_loss: 0.0227 - val_accuracy: 0.9925\n",
            "Epoch 8/30\n",
            "1133/1133 [==============================] - 20s 18ms/step - loss: 0.0287 - accuracy: 0.9900 - val_loss: 0.0182 - val_accuracy: 0.9939\n",
            "Epoch 9/30\n",
            "1133/1133 [==============================] - 19s 17ms/step - loss: 0.0275 - accuracy: 0.9904 - val_loss: 0.0191 - val_accuracy: 0.9938\n",
            "Epoch 10/30\n",
            "1133/1133 [==============================] - 20s 18ms/step - loss: 0.0247 - accuracy: 0.9915 - val_loss: 0.0186 - val_accuracy: 0.9942\n",
            "Epoch 11/30\n",
            "1133/1133 [==============================] - 20s 17ms/step - loss: 0.0238 - accuracy: 0.9919 - val_loss: 0.0220 - val_accuracy: 0.9922\n",
            "Epoch 12/30\n",
            "1133/1133 [==============================] - 19s 17ms/step - loss: 0.0214 - accuracy: 0.9929 - val_loss: 0.0162 - val_accuracy: 0.9952\n",
            "Epoch 13/30\n",
            "1133/1133 [==============================] - 20s 18ms/step - loss: 0.0200 - accuracy: 0.9931 - val_loss: 0.0274 - val_accuracy: 0.9909\n",
            "Epoch 14/30\n",
            "1133/1133 [==============================] - 21s 18ms/step - loss: 0.0193 - accuracy: 0.9937 - val_loss: 0.0145 - val_accuracy: 0.9953\n",
            "Epoch 15/30\n",
            "1133/1133 [==============================] - 20s 18ms/step - loss: 0.0192 - accuracy: 0.9936 - val_loss: 0.0146 - val_accuracy: 0.9956\n",
            "Epoch 16/30\n",
            "1133/1133 [==============================] - 20s 17ms/step - loss: 0.0173 - accuracy: 0.9942 - val_loss: 0.0164 - val_accuracy: 0.9949\n",
            "Epoch 17/30\n",
            "1133/1133 [==============================] - 20s 18ms/step - loss: 0.0170 - accuracy: 0.9943 - val_loss: 0.0138 - val_accuracy: 0.9955\n",
            "Epoch 18/30\n",
            "1133/1133 [==============================] - 20s 17ms/step - loss: 0.0165 - accuracy: 0.9944 - val_loss: 0.0147 - val_accuracy: 0.9957\n",
            "Epoch 19/30\n",
            "1133/1133 [==============================] - 20s 18ms/step - loss: 0.0154 - accuracy: 0.9948 - val_loss: 0.0217 - val_accuracy: 0.9930\n",
            "Epoch 20/30\n",
            "1133/1133 [==============================] - 20s 18ms/step - loss: 0.0151 - accuracy: 0.9949 - val_loss: 0.0165 - val_accuracy: 0.9950\n",
            "Epoch 21/30\n",
            "1133/1133 [==============================] - 20s 18ms/step - loss: 0.0147 - accuracy: 0.9951 - val_loss: 0.0179 - val_accuracy: 0.9943\n",
            "Epoch 22/30\n",
            "1133/1133 [==============================] - 20s 17ms/step - loss: 0.0138 - accuracy: 0.9954 - val_loss: 0.0109 - val_accuracy: 0.9966\n",
            "Epoch 23/30\n",
            "1133/1133 [==============================] - 20s 18ms/step - loss: 0.0129 - accuracy: 0.9957 - val_loss: 0.0102 - val_accuracy: 0.9969\n",
            "Epoch 24/30\n",
            "1133/1133 [==============================] - 20s 18ms/step - loss: 0.0126 - accuracy: 0.9958 - val_loss: 0.0124 - val_accuracy: 0.9964\n",
            "Epoch 25/30\n",
            "1133/1133 [==============================] - 20s 18ms/step - loss: 0.0127 - accuracy: 0.9956 - val_loss: 0.0148 - val_accuracy: 0.9954\n",
            "Epoch 26/30\n",
            "1133/1133 [==============================] - 20s 17ms/step - loss: 0.0117 - accuracy: 0.9959 - val_loss: 0.0094 - val_accuracy: 0.9972\n",
            "Epoch 27/30\n",
            "1133/1133 [==============================] - 20s 17ms/step - loss: 0.0115 - accuracy: 0.9961 - val_loss: 0.0130 - val_accuracy: 0.9961\n",
            "Epoch 28/30\n",
            "1133/1133 [==============================] - 19s 17ms/step - loss: 0.0117 - accuracy: 0.9962 - val_loss: 0.0115 - val_accuracy: 0.9965\n",
            "Epoch 29/30\n",
            "1133/1133 [==============================] - 20s 17ms/step - loss: 0.0109 - accuracy: 0.9963 - val_loss: 0.0134 - val_accuracy: 0.9961\n",
            "Epoch 30/30\n",
            "1133/1133 [==============================] - 20s 17ms/step - loss: 0.0111 - accuracy: 0.9964 - val_loss: 0.0120 - val_accuracy: 0.9965\n"
          ]
        }
      ]
    },
    {
      "cell_type": "code",
      "source": [
        "loss, accuracy = model.evaluate(x_test, y_test)"
      ],
      "metadata": {
        "colab": {
          "base_uri": "https://localhost:8080/"
        },
        "id": "NqqdSblQM3pO",
        "outputId": "55c0f3ac-7c30-4c56-b7f0-df617e909452"
      },
      "execution_count": 71,
      "outputs": [
        {
          "output_type": "stream",
          "name": "stdout",
          "text": [
            "2265/2265 [==============================] - 10s 5ms/step - loss: 0.0120 - accuracy: 0.9965\n"
          ]
        }
      ]
    },
    {
      "cell_type": "code",
      "source": [
        "import matplotlib.pyplot as plt\n",
        "\n",
        "plt.plot(history.history['accuracy'])\n",
        "plt.plot(history.history['val_accuracy'])\n",
        "plt.legend([\"accuracy\",\"val_accuracy\"])\n",
        "plt.title('Accuracy Vs Val_Accuracy')\n",
        "plt.xlabel('Epoch')\n",
        "plt.ylabel('Accuracy')"
      ],
      "metadata": {
        "colab": {
          "base_uri": "https://localhost:8080/",
          "height": 313
        },
        "id": "9Wa9X7NCYzkJ",
        "outputId": "38a17f09-3442-4d6f-a204-3398821cc2ee"
      },
      "execution_count": 72,
      "outputs": [
        {
          "output_type": "execute_result",
          "data": {
            "text/plain": [
              "Text(0, 0.5, 'Accuracy')"
            ]
          },
          "metadata": {},
          "execution_count": 72
        },
        {
          "output_type": "display_data",
          "data": {
            "image/png": "[encoded data removed]",
            "text/plain": [
              "<Figure size 432x288 with 1 Axes>"
            ]
          },
          "metadata": {
            "needs_background": "light"
          }
        }
      ]
    },
    {
      "cell_type": "code",
      "source": [
        "plt.plot(history.history['loss'])\n",
        "plt.plot(history.history['val_loss'])\n",
        "plt.legend([\"loss\",\"val_loss\"])\n",
        "plt.title('Loss Vs Val_loss')\n",
        "plt.xlabel('Epoch')\n",
        "plt.ylabel('Loss')"
      ],
      "metadata": {
        "colab": {
          "base_uri": "https://localhost:8080/",
          "height": 313
        },
        "id": "gnOxibucajHV",
        "outputId": "c0cf74ac-ff66-4451-b954-1b71aa134fbe"
      },
      "execution_count": 73,
      "outputs": [
        {
          "output_type": "execute_result",
          "data": {
            "text/plain": [
              "Text(0, 0.5, 'Loss')"
            ]
          },
          "metadata": {},
          "execution_count": 73
        },
        {
          "output_type": "display_data",
          "data": {
            "image/png": "[encoded data removed]",
            "text/plain": [
              "<Figure size 432x288 with 1 Axes>"
            ]
          },
          "metadata": {
            "needs_background": "light"
          }
        }
      ]
    },
    {
      "cell_type": "code",
      "source": [
        "pd.DataFrame(history.history).plot(figsize=(8, 5))\n",
        "plt.grid(True)\n",
        "plt.gca().set_ylim(0, 1)\n",
        "plt.show()"
      ],
      "metadata": {
        "colab": {
          "base_uri": "https://localhost:8080/",
          "height": 324
        },
        "id": "Cw04qkW6auGF",
        "outputId": "12a23e52-3349-4805-caa1-8afbcb5046e7"
      },
      "execution_count": 74,
      "outputs": [
        {
          "output_type": "display_data",
          "data": {
            "image/png": "[encoded data removed]",
            "text/plain": [
              "<Figure size 576x360 with 1 Axes>"
            ]
          },
          "metadata": {
            "needs_background": "light"
          }
        }
      ]
    },
    {
      "cell_type": "code",
      "source": [
        "predictions = model.predict(x_test)"
      ],
      "metadata": {
        "id": "Zk9UnUxVdgzz"
      },
      "execution_count": 77,
      "outputs": []
    },
    {
      "cell_type": "code",
      "source": [
        "pred = np.argmax(predictions, axis=1)\n",
        "# label\n",
        "y_test = np.argmax(y_test, axis=1)"
      ],
      "metadata": {
        "id": "EowuA6GFd90-"
      },
      "execution_count": 78,
      "outputs": []
    },
    {
      "cell_type": "code",
      "source": [
        "from sklearn.metrics import classification_report\n",
        "print(classification_report(y_test, pred))"
      ],
      "metadata": {
        "colab": {
          "base_uri": "https://localhost:8080/"
        },
        "id": "emHcpAQzdmZC",
        "outputId": "eb29be29-b262-45be-b086-18c35ce337cd"
      },
      "execution_count": 80,
      "outputs": [
        {
          "output_type": "stream",
          "name": "stdout",
          "text": [
            "              precision    recall  f1-score   support\n",
            "\n",
            "           0       1.00      0.98      0.99     14489\n",
            "           1       0.99      1.00      1.00     14529\n",
            "           2       1.00      1.00      1.00     14413\n",
            "           3       1.00      1.00      1.00     14440\n",
            "           4       1.00      1.00      1.00     14600\n",
            "\n",
            "    accuracy                           1.00     72471\n",
            "   macro avg       1.00      1.00      1.00     72471\n",
            "weighted avg       1.00      1.00      1.00     72471\n",
            "\n"
          ]
        }
      ]
    },
    {
      "cell_type": "code",
      "source": [
        "import seaborn as sns\n",
        "from sklearn.metrics import confusion_matrix\n",
        "cm = confusion_matrix(y_test, pred)\n",
        "\n",
        "sns.heatmap(cm,  annot=True, fmt=\"d\" ,cmap=\"YlGnBu\")"
      ],
      "metadata": {
        "colab": {
          "base_uri": "https://localhost:8080/",
          "height": 283
        },
        "id": "gC1oIzj5dsPo",
        "outputId": "d18787c0-a35c-40f2-d923-416d8d449a00"
      },
      "execution_count": 81,
      "outputs": [
        {
          "output_type": "execute_result",
          "data": {
            "text/plain": [
              "<matplotlib.axes._subplots.AxesSubplot at 0x7f432f22ef10>"
            ]
          },
          "metadata": {},
          "execution_count": 81
        },
        {
          "output_type": "display_data",
          "data": {
            "image/png": "[encoded data removed]",
            "text/plain": [
              "<Figure size 432x288 with 2 Axes>"
            ]
          },
          "metadata": {
            "needs_background": "light"
          }
        }
      ]
    },
    {
      "cell_type": "code",
      "source": [
        "from sklearn.metrics import classification_report\n",
        "class_report=classification_report(y_test, pred)"
      ],
      "metadata": {
        "id": "-jJWiDe1eNIx"
      },
      "execution_count": 82,
      "outputs": []
    },
    {
      "cell_type": "code",
      "source": [
        "print(class_report)"
      ],
      "metadata": {
        "colab": {
          "base_uri": "https://localhost:8080/"
        },
        "id": "6Sc05RlVeV2h",
        "outputId": "5b1b8883-b9df-450e-f364-912c58090b79"
      },
      "execution_count": 83,
      "outputs": [
        {
          "output_type": "stream",
          "name": "stdout",
          "text": [
            "              precision    recall  f1-score   support\n",
            "\n",
            "           0       1.00      0.98      0.99     14489\n",
            "           1       0.99      1.00      1.00     14529\n",
            "           2       1.00      1.00      1.00     14413\n",
            "           3       1.00      1.00      1.00     14440\n",
            "           4       1.00      1.00      1.00     14600\n",
            "\n",
            "    accuracy                           1.00     72471\n",
            "   macro avg       1.00      1.00      1.00     72471\n",
            "weighted avg       1.00      1.00      1.00     72471\n",
            "\n"
          ]
        }
      ]
    },
    {
      "cell_type": "code",
      "source": [
        "model.save(\"model.hdf5\")"
      ],
      "metadata": {
        "id": "7AuyNdEaeY_h"
      },
      "execution_count": 84,
      "outputs": []
    },
    {
      "cell_type": "code",
      "source": [
        "labels = ['Normal', 'Unknown Beats', 'Ventricular', 'Supraventricular', 'Fusion Beats']"
      ],
      "metadata": {
        "id": "6CWUZuAPgDZO"
      },
      "execution_count": 98,
      "outputs": []
    },
    {
      "cell_type": "code",
      "source": [
        "for index, idx in enumerate(y_train):\n",
        "  id = np.argmax(idx, axis=0)\n",
        "  if id == 0:\n",
        "    normal = x_train[index]\n",
        "  if id == 1:\n",
        "    unknown_beats = x_train[index]\n",
        "  if id == 2:\n",
        "    ventricular = x_train[index]\n",
        "  if id == 3:\n",
        "    supraventricular = x_train[index]\n",
        "  if id == 4:\n",
        "    fusion_beats = x_train[index]"
      ],
      "metadata": {
        "id": "RKZ4bxvej9qj"
      },
      "execution_count": 99,
      "outputs": []
    },
    {
      "cell_type": "code",
      "source": [
        "plt.plot(ventricular)\n",
        "plt.title(\"Ventricular\")"
      ],
      "metadata": {
        "colab": {
          "base_uri": "https://localhost:8080/",
          "height": 299
        },
        "id": "KOOkBN7rh5mL",
        "outputId": "129f24be-6e7c-4fad-89f1-c7234c5f0bf8"
      },
      "execution_count": 102,
      "outputs": [
        {
          "output_type": "execute_result",
          "data": {
            "text/plain": [
              "Text(0.5, 1.0, 'Ventricular')"
            ]
          },
          "metadata": {},
          "execution_count": 102
        },
        {
          "output_type": "display_data",
          "data": {
            "image/png": "[encoded data removed]",
            "text/plain": [
              "<Figure size 432x288 with 1 Axes>"
            ]
          },
          "metadata": {
            "needs_background": "light"
          }
        }
      ]
    },
    {
      "cell_type": "code",
      "source": [
        "plt.plot(unknown_beats)\n",
        "plt.title(\"Unknown Beats\")"
      ],
      "metadata": {
        "colab": {
          "base_uri": "https://localhost:8080/",
          "height": 299
        },
        "id": "ALn4T0-2jMu0",
        "outputId": "963ec1a5-4624-4139-f864-20714adbae4b"
      },
      "execution_count": 101,
      "outputs": [
        {
          "output_type": "execute_result",
          "data": {
            "text/plain": [
              "Text(0.5, 1.0, 'Unknown Beats')"
            ]
          },
          "metadata": {},
          "execution_count": 101
        },
        {
          "output_type": "display_data",
          "data": {
            "image/png": "[encoded data removed]",
            "text/plain": [
              "<Figure size 432x288 with 1 Axes>"
            ]
          },
          "metadata": {
            "needs_background": "light"
          }
        }
      ]
    },
    {
      "cell_type": "code",
      "source": [
        "plt.plot(normal)\n",
        "plt.title(\"Normal\")"
      ],
      "metadata": {
        "colab": {
          "base_uri": "https://localhost:8080/",
          "height": 299
        },
        "id": "zDNRrR5IjbIu",
        "outputId": "5ddc1ee7-8ee5-4cc8-848d-aa9ee90a9544"
      },
      "execution_count": 104,
      "outputs": [
        {
          "output_type": "execute_result",
          "data": {
            "text/plain": [
              "Text(0.5, 1.0, 'Normal')"
            ]
          },
          "metadata": {},
          "execution_count": 104
        },
        {
          "output_type": "display_data",
          "data": {
            "image/png": "[encoded data removed]",
            "text/plain": [
              "<Figure size 432x288 with 1 Axes>"
            ]
          },
          "metadata": {
            "needs_background": "light"
          }
        }
      ]
    },
    {
      "cell_type": "code",
      "source": [
        "plt.plot(supraventricular)\n",
        "plt.title(\"Supraventricular\")"
      ],
      "metadata": {
        "colab": {
          "base_uri": "https://localhost:8080/",
          "height": 299
        },
        "id": "XDm8gzfKjlsr",
        "outputId": "646aa4fe-c272-4811-eac4-e3be23e7545c"
      },
      "execution_count": 105,
      "outputs": [
        {
          "output_type": "execute_result",
          "data": {
            "text/plain": [
              "Text(0.5, 1.0, 'Supraventricular')"
            ]
          },
          "metadata": {},
          "execution_count": 105
        },
        {
          "output_type": "display_data",
          "data": {
            "image/png": "[encoded data removed]",
            "text/plain": [
              "<Figure size 432x288 with 1 Axes>"
            ]
          },
          "metadata": {
            "needs_background": "light"
          }
        }
      ]
    },
    {
      "cell_type": "code",
      "source": [
        "plt.plot(fusion_beats)\n",
        "plt.title(\"Fusion Beats\")"
      ],
      "metadata": {
        "colab": {
          "base_uri": "https://localhost:8080/",
          "height": 299
        },
        "id": "x9-9X3VAjfao",
        "outputId": "92675d1d-8c49-4eda-992a-0087fbf66376"
      },
      "execution_count": 106,
      "outputs": [
        {
          "output_type": "execute_result",
          "data": {
            "text/plain": [
              "Text(0.5, 1.0, 'Fusion Beats')"
            ]
          },
          "metadata": {},
          "execution_count": 106
        },
        {
          "output_type": "display_data",
          "data": {
            "image/png": "[encoded data removed]",
            "text/plain": [
              "<Figure size 432x288 with 1 Axes>"
            ]
          },
          "metadata": {
            "needs_background": "light"
          }
        }
      ]
    },
    {
      "cell_type": "markdown",
      "source": [
        "Implemented By Muhammad Hanan Asghar"
      ],
      "metadata": {
        "id": "gdFnhVCMf_RM"
      }
    }
  ]
}